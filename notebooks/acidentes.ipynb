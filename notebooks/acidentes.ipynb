{
 "cells": [
  {
   "cell_type": "markdown",
   "id": "beb49737-4eeb-43ee-8bb7-f010d0cb3dec",
   "metadata": {},
   "source": [
    "# Acidentes de Trânsito em Santa Catarina"
   ]
  },
  {
   "cell_type": "markdown",
   "id": "f9987542-29d1-4cc8-8fa4-da7b0b295f9d",
   "metadata": {},
   "source": [
    "# 0- Setup e Carregamento do Conjunto de Dados"
   ]
  },
  {
   "cell_type": "code",
   "execution_count": 541,
   "id": "63eceaef-a5e0-4692-8aed-876f4d229f47",
   "metadata": {
    "jupyter": {
     "source_hidden": true
    }
   },
   "outputs": [],
   "source": [
    "import warnings\n",
    "warnings.filterwarnings('ignore')"
   ]
  },
  {
   "cell_type": "code",
   "execution_count": 542,
   "id": "bab3a7c8-2f62-42b7-8c53-03fc282b1380",
   "metadata": {
    "jupyter": {
     "source_hidden": true
    }
   },
   "outputs": [],
   "source": [
    "import os\n",
    "from datetime import datetime\n",
    "\n",
    "import numpy as np\n",
    "import pandas as pd\n",
    "import matplotlib.pyplot as plt\n",
    "import seaborn as sns\n",
    "import scipy.stats as stats\n",
    "\n",
    "from sklearn.preprocessing import OrdinalEncoder\n",
    "import statsmodels.api as sm\n",
    "from statsmodels.formula.api import ols"
   ]
  },
  {
   "cell_type": "markdown",
   "id": "8097750c-8d4f-4c61-a2b6-021282432c42",
   "metadata": {},
   "source": [
    "## 0.1 Funções Auxiliares"
   ]
  },
  {
   "cell_type": "code",
   "execution_count": 543,
   "id": "062f9f4a-8f8b-4b67-85f7-8bfef4bbb55b",
   "metadata": {
    "jupyter": {
     "source_hidden": true
    }
   },
   "outputs": [],
   "source": [
    "def make_number_of_accidents_df(data):\n",
    "    \n",
    "    contagem_acidentes = []\n",
    "    contagem_acidentes_fatais = []\n",
    "    \n",
    "    for veiculo in data['tipo_veiculo'].unique():\n",
    "        \n",
    "        tabela_veiculo = data.loc[data['tipo_veiculo'] == veiculo]\n",
    "        mortos = tabela_veiculo.loc[tabela_veiculo['mortos'] == 1]\n",
    "        \n",
    "        numero_acidentes = tabela_veiculo.shape[0]\n",
    "        numero_acidentes_fatais = np.sum(mortos['mortos'])    \n",
    "    \n",
    "        contagem_acidentes.append(numero_acidentes)  \n",
    "        contagem_acidentes_fatais.append(numero_acidentes_fatais)\n",
    "    \n",
    "    dict = {'tipo_veiculo': data['tipo_veiculo'].unique(), 'numero_acidentes': contagem_acidentes, 'acidentes_fatais': contagem_acidentes_fatais}\n",
    "    acidentes_fatais_por_veiculo_df = pd.DataFrame(dict)\n",
    "\n",
    "    return acidentes_fatais_por_veiculo_df\n",
    "\n",
    "def get_anova_table(df, numeric_column, class_column):\n",
    "\n",
    "    model = ols(numeric_column + ' ~ ' + class_column, data=df).fit()\n",
    "    anova_table = sm.stats.anova_lm(model, typ=2)\n",
    "\n",
    "    f_statistic, p_value, class_degf, res_degf = anova_table.F[0], anova_table['PR(>F)'][0], anova_table.df[0], anova_table.df[1]\n",
    "\n",
    "    return f_statistic, p_value, class_degf, res_degf\n",
    "\n",
    "def perform_anova(df, numeric_column, class_column):\n",
    "    # Group the data by class\n",
    "    grouped_data = [group[numeric_column].values for name, group in df.groupby(class_column)]    \n",
    "    \n",
    "    # Perform one-way ANOVA\n",
    "    f_statistic, p_value = stats.f_oneway(*grouped_data)\n",
    "    \n",
    "    return f_statistic, p_value\n",
    "\n",
    "def show_descriptive_statistics(df):\n",
    "    # Central Tendency - mean, median\n",
    "    ct1 = pd.DataFrame(df.apply(np.mean))\n",
    "    ct2 = pd.DataFrame(df.apply(np.median))    \n",
    "\n",
    "    # Dispersion - std, min, max, range\n",
    "    d1 = pd.DataFrame(df.apply(np.std))\n",
    "    d2 = pd.DataFrame(df.apply(min))\n",
    "    d3 = pd.DataFrame(df.apply(max))\n",
    "    d4 = pd.DataFrame(df.apply(lambda x: x.max() - x.min()))    \n",
    "\n",
    "    m = pd.concat([d2, d3, d4, ct1, ct2, d1], axis = 1).reset_index()\n",
    "    m.columns = ['attributes', 'min', 'max', 'range', 'mean', 'median','std']    \n",
    "    return m"
   ]
  },
  {
   "cell_type": "code",
   "execution_count": 544,
   "id": "880f3f23-1b49-40e0-816a-9c29b930c08b",
   "metadata": {
    "jupyter": {
     "source_hidden": true
    }
   },
   "outputs": [],
   "source": [
    "# carregando o dataset raw e selecionando os datapoints de SC\n",
    "\n",
    "current_path = os.getcwd()\n",
    "acidentes_raw = pd.read_csv(current_path.replace('/notebooks', '') + '/data/raw/acidentes2023.csv', sep=';', encoding = \"ISO-8859-1\")\n",
    "acidentes_sc_raw = acidentes_raw.loc[acidentes_raw['uf'] == 'SC']"
   ]
  },
  {
   "cell_type": "code",
   "execution_count": 545,
   "id": "af1b1894-91c1-4a4b-958b-4e8d185bd972",
   "metadata": {
    "jupyter": {
     "source_hidden": true
    }
   },
   "outputs": [],
   "source": [
    "# fazendo uma cópia e salvando um csv da parte selecionada do dataframe acima\n",
    "\n",
    "acidentes_sc_1 = acidentes_sc_raw.copy()\n",
    "acidentes_sc_1.reset_index(inplace=True)\n",
    "acidentes_sc_1.to_csv(current_path.replace('/notebooks', '') + '/data/interim/acidentes_sc_1.csv')"
   ]
  },
  {
   "cell_type": "code",
   "execution_count": 546,
   "id": "4fb20aaa",
   "metadata": {},
   "outputs": [
    {
     "data": {
      "text/html": [
       "<div>\n",
       "<style scoped>\n",
       "    .dataframe tbody tr th:only-of-type {\n",
       "        vertical-align: middle;\n",
       "    }\n",
       "\n",
       "    .dataframe tbody tr th {\n",
       "        vertical-align: top;\n",
       "    }\n",
       "\n",
       "    .dataframe thead th {\n",
       "        text-align: right;\n",
       "    }\n",
       "</style>\n",
       "<table border=\"1\" class=\"dataframe\">\n",
       "  <thead>\n",
       "    <tr style=\"text-align: right;\">\n",
       "      <th></th>\n",
       "      <th>index</th>\n",
       "      <th>id</th>\n",
       "      <th>pesid</th>\n",
       "      <th>data_inversa</th>\n",
       "      <th>dia_semana</th>\n",
       "      <th>horario</th>\n",
       "      <th>uf</th>\n",
       "      <th>br</th>\n",
       "      <th>km</th>\n",
       "      <th>municipio</th>\n",
       "      <th>...</th>\n",
       "      <th>sexo</th>\n",
       "      <th>ilesos</th>\n",
       "      <th>feridos_leves</th>\n",
       "      <th>feridos_graves</th>\n",
       "      <th>mortos</th>\n",
       "      <th>latitude</th>\n",
       "      <th>longitude</th>\n",
       "      <th>regional</th>\n",
       "      <th>delegacia</th>\n",
       "      <th>uop</th>\n",
       "    </tr>\n",
       "  </thead>\n",
       "  <tbody>\n",
       "    <tr>\n",
       "      <th>0</th>\n",
       "      <td>13</td>\n",
       "      <td>496772</td>\n",
       "      <td>1082749</td>\n",
       "      <td>2023-01-02</td>\n",
       "      <td>segunda-feira</td>\n",
       "      <td>07:23:00</td>\n",
       "      <td>SC</td>\n",
       "      <td>101</td>\n",
       "      <td>134</td>\n",
       "      <td>BALNEARIO CAMBORIU</td>\n",
       "      <td>...</td>\n",
       "      <td>Masculino</td>\n",
       "      <td>1</td>\n",
       "      <td>0</td>\n",
       "      <td>0</td>\n",
       "      <td>0</td>\n",
       "      <td>-27,00218</td>\n",
       "      <td>-48,636433</td>\n",
       "      <td>SPRF-SC</td>\n",
       "      <td>DEL04-SC</td>\n",
       "      <td>UOP03-DEL04-SC</td>\n",
       "    </tr>\n",
       "    <tr>\n",
       "      <th>1</th>\n",
       "      <td>34</td>\n",
       "      <td>496875</td>\n",
       "      <td>1083269</td>\n",
       "      <td>2023-01-02</td>\n",
       "      <td>segunda-feira</td>\n",
       "      <td>17:25:00</td>\n",
       "      <td>SC</td>\n",
       "      <td>101</td>\n",
       "      <td>255</td>\n",
       "      <td>PAULO LOPES</td>\n",
       "      <td>...</td>\n",
       "      <td>Masculino</td>\n",
       "      <td>1</td>\n",
       "      <td>0</td>\n",
       "      <td>0</td>\n",
       "      <td>0</td>\n",
       "      <td>-27,98242299</td>\n",
       "      <td>-48,67898469</td>\n",
       "      <td>SPRF-SC</td>\n",
       "      <td>DEL02-SC</td>\n",
       "      <td>UOP03-DEL02-SC</td>\n",
       "    </tr>\n",
       "    <tr>\n",
       "      <th>2</th>\n",
       "      <td>35</td>\n",
       "      <td>496877</td>\n",
       "      <td>1083209</td>\n",
       "      <td>2023-01-02</td>\n",
       "      <td>segunda-feira</td>\n",
       "      <td>17:15:00</td>\n",
       "      <td>SC</td>\n",
       "      <td>101</td>\n",
       "      <td>252</td>\n",
       "      <td>PAULO LOPES</td>\n",
       "      <td>...</td>\n",
       "      <td>Masculino</td>\n",
       "      <td>1</td>\n",
       "      <td>0</td>\n",
       "      <td>0</td>\n",
       "      <td>0</td>\n",
       "      <td>-27,95672412</td>\n",
       "      <td>-48,6767588</td>\n",
       "      <td>SPRF-SC</td>\n",
       "      <td>DEL02-SC</td>\n",
       "      <td>UOP03-DEL02-SC</td>\n",
       "    </tr>\n",
       "    <tr>\n",
       "      <th>3</th>\n",
       "      <td>36</td>\n",
       "      <td>496877</td>\n",
       "      <td>1084656</td>\n",
       "      <td>2023-01-02</td>\n",
       "      <td>segunda-feira</td>\n",
       "      <td>17:15:00</td>\n",
       "      <td>SC</td>\n",
       "      <td>101</td>\n",
       "      <td>252</td>\n",
       "      <td>PAULO LOPES</td>\n",
       "      <td>...</td>\n",
       "      <td>Feminino</td>\n",
       "      <td>1</td>\n",
       "      <td>0</td>\n",
       "      <td>0</td>\n",
       "      <td>0</td>\n",
       "      <td>-27,95672412</td>\n",
       "      <td>-48,6767588</td>\n",
       "      <td>SPRF-SC</td>\n",
       "      <td>DEL02-SC</td>\n",
       "      <td>UOP03-DEL02-SC</td>\n",
       "    </tr>\n",
       "    <tr>\n",
       "      <th>4</th>\n",
       "      <td>45</td>\n",
       "      <td>496922</td>\n",
       "      <td>1083214</td>\n",
       "      <td>2023-01-02</td>\n",
       "      <td>segunda-feira</td>\n",
       "      <td>22:30:00</td>\n",
       "      <td>SC</td>\n",
       "      <td>101</td>\n",
       "      <td>8,9</td>\n",
       "      <td>GARUVA</td>\n",
       "      <td>...</td>\n",
       "      <td>Masculino</td>\n",
       "      <td>0</td>\n",
       "      <td>1</td>\n",
       "      <td>0</td>\n",
       "      <td>0</td>\n",
       "      <td>-26,044942</td>\n",
       "      <td>-48,859703</td>\n",
       "      <td>SPRF-SC</td>\n",
       "      <td>DEL03-SC</td>\n",
       "      <td>UOP01-DEL03-SC</td>\n",
       "    </tr>\n",
       "    <tr>\n",
       "      <th>...</th>\n",
       "      <td>...</td>\n",
       "      <td>...</td>\n",
       "      <td>...</td>\n",
       "      <td>...</td>\n",
       "      <td>...</td>\n",
       "      <td>...</td>\n",
       "      <td>...</td>\n",
       "      <td>...</td>\n",
       "      <td>...</td>\n",
       "      <td>...</td>\n",
       "      <td>...</td>\n",
       "      <td>...</td>\n",
       "      <td>...</td>\n",
       "      <td>...</td>\n",
       "      <td>...</td>\n",
       "      <td>...</td>\n",
       "      <td>...</td>\n",
       "      <td>...</td>\n",
       "      <td>...</td>\n",
       "      <td>...</td>\n",
       "      <td>...</td>\n",
       "    </tr>\n",
       "    <tr>\n",
       "      <th>19681</th>\n",
       "      <td>183231</td>\n",
       "      <td>607433</td>\n",
       "      <td>1356245</td>\n",
       "      <td>2023-11-14</td>\n",
       "      <td>terça-feira</td>\n",
       "      <td>11:32:00</td>\n",
       "      <td>SC</td>\n",
       "      <td>282</td>\n",
       "      <td>20,4</td>\n",
       "      <td>PALHOCA</td>\n",
       "      <td>...</td>\n",
       "      <td>Feminino</td>\n",
       "      <td>1</td>\n",
       "      <td>0</td>\n",
       "      <td>0</td>\n",
       "      <td>0</td>\n",
       "      <td>-27,68689795</td>\n",
       "      <td>-48,71353263</td>\n",
       "      <td>SPRF-SC</td>\n",
       "      <td>DEL01-SC</td>\n",
       "      <td>UOP02-DEL01-SC</td>\n",
       "    </tr>\n",
       "    <tr>\n",
       "      <th>19682</th>\n",
       "      <td>183345</td>\n",
       "      <td>617175</td>\n",
       "      <td>1380488</td>\n",
       "      <td>2023-09-24</td>\n",
       "      <td>domingo</td>\n",
       "      <td>05:00:00</td>\n",
       "      <td>SC</td>\n",
       "      <td>470</td>\n",
       "      <td>0,9</td>\n",
       "      <td>GASPAR</td>\n",
       "      <td>...</td>\n",
       "      <td>Masculino</td>\n",
       "      <td>0</td>\n",
       "      <td>1</td>\n",
       "      <td>0</td>\n",
       "      <td>0</td>\n",
       "      <td>-26,92203838</td>\n",
       "      <td>-48,95884931</td>\n",
       "      <td>NaN</td>\n",
       "      <td>NaN</td>\n",
       "      <td>NaN</td>\n",
       "    </tr>\n",
       "    <tr>\n",
       "      <th>19683</th>\n",
       "      <td>183346</td>\n",
       "      <td>617175</td>\n",
       "      <td>1380489</td>\n",
       "      <td>2023-09-24</td>\n",
       "      <td>domingo</td>\n",
       "      <td>05:00:00</td>\n",
       "      <td>SC</td>\n",
       "      <td>470</td>\n",
       "      <td>0,9</td>\n",
       "      <td>GASPAR</td>\n",
       "      <td>...</td>\n",
       "      <td>Masculino</td>\n",
       "      <td>0</td>\n",
       "      <td>0</td>\n",
       "      <td>1</td>\n",
       "      <td>0</td>\n",
       "      <td>-26,92203838</td>\n",
       "      <td>-48,95884931</td>\n",
       "      <td>NaN</td>\n",
       "      <td>NaN</td>\n",
       "      <td>NaN</td>\n",
       "    </tr>\n",
       "    <tr>\n",
       "      <th>19684</th>\n",
       "      <td>183347</td>\n",
       "      <td>617175</td>\n",
       "      <td>1380490</td>\n",
       "      <td>2023-09-24</td>\n",
       "      <td>domingo</td>\n",
       "      <td>05:00:00</td>\n",
       "      <td>SC</td>\n",
       "      <td>470</td>\n",
       "      <td>0,9</td>\n",
       "      <td>GASPAR</td>\n",
       "      <td>...</td>\n",
       "      <td>Masculino</td>\n",
       "      <td>0</td>\n",
       "      <td>0</td>\n",
       "      <td>1</td>\n",
       "      <td>0</td>\n",
       "      <td>-26,92203838</td>\n",
       "      <td>-48,95884931</td>\n",
       "      <td>NaN</td>\n",
       "      <td>NaN</td>\n",
       "      <td>NaN</td>\n",
       "    </tr>\n",
       "    <tr>\n",
       "      <th>19685</th>\n",
       "      <td>183358</td>\n",
       "      <td>619871</td>\n",
       "      <td>1387238</td>\n",
       "      <td>2023-12-13</td>\n",
       "      <td>quarta-feira</td>\n",
       "      <td>06:50:00</td>\n",
       "      <td>SC</td>\n",
       "      <td>101</td>\n",
       "      <td>215,8</td>\n",
       "      <td>PALHOCA</td>\n",
       "      <td>...</td>\n",
       "      <td>Masculino</td>\n",
       "      <td>0</td>\n",
       "      <td>0</td>\n",
       "      <td>1</td>\n",
       "      <td>0</td>\n",
       "      <td>-27,65237092</td>\n",
       "      <td>-48,67664337</td>\n",
       "      <td>NaN</td>\n",
       "      <td>NaN</td>\n",
       "      <td>NaN</td>\n",
       "    </tr>\n",
       "  </tbody>\n",
       "</table>\n",
       "<p>19686 rows × 36 columns</p>\n",
       "</div>"
      ],
      "text/plain": [
       "        index      id    pesid data_inversa     dia_semana   horario  uf   br  \\\n",
       "0          13  496772  1082749   2023-01-02  segunda-feira  07:23:00  SC  101   \n",
       "1          34  496875  1083269   2023-01-02  segunda-feira  17:25:00  SC  101   \n",
       "2          35  496877  1083209   2023-01-02  segunda-feira  17:15:00  SC  101   \n",
       "3          36  496877  1084656   2023-01-02  segunda-feira  17:15:00  SC  101   \n",
       "4          45  496922  1083214   2023-01-02  segunda-feira  22:30:00  SC  101   \n",
       "...       ...     ...      ...          ...            ...       ...  ..  ...   \n",
       "19681  183231  607433  1356245   2023-11-14    terça-feira  11:32:00  SC  282   \n",
       "19682  183345  617175  1380488   2023-09-24        domingo  05:00:00  SC  470   \n",
       "19683  183346  617175  1380489   2023-09-24        domingo  05:00:00  SC  470   \n",
       "19684  183347  617175  1380490   2023-09-24        domingo  05:00:00  SC  470   \n",
       "19685  183358  619871  1387238   2023-12-13   quarta-feira  06:50:00  SC  101   \n",
       "\n",
       "          km           municipio  ...       sexo ilesos feridos_leves  \\\n",
       "0        134  BALNEARIO CAMBORIU  ...  Masculino      1             0   \n",
       "1        255         PAULO LOPES  ...  Masculino      1             0   \n",
       "2        252         PAULO LOPES  ...  Masculino      1             0   \n",
       "3        252         PAULO LOPES  ...   Feminino      1             0   \n",
       "4        8,9              GARUVA  ...  Masculino      0             1   \n",
       "...      ...                 ...  ...        ...    ...           ...   \n",
       "19681   20,4             PALHOCA  ...   Feminino      1             0   \n",
       "19682    0,9              GASPAR  ...  Masculino      0             1   \n",
       "19683    0,9              GASPAR  ...  Masculino      0             0   \n",
       "19684    0,9              GASPAR  ...  Masculino      0             0   \n",
       "19685  215,8             PALHOCA  ...  Masculino      0             0   \n",
       "\n",
       "      feridos_graves mortos      latitude     longitude regional delegacia  \\\n",
       "0                  0      0     -27,00218    -48,636433  SPRF-SC  DEL04-SC   \n",
       "1                  0      0  -27,98242299  -48,67898469  SPRF-SC  DEL02-SC   \n",
       "2                  0      0  -27,95672412   -48,6767588  SPRF-SC  DEL02-SC   \n",
       "3                  0      0  -27,95672412   -48,6767588  SPRF-SC  DEL02-SC   \n",
       "4                  0      0    -26,044942    -48,859703  SPRF-SC  DEL03-SC   \n",
       "...              ...    ...           ...           ...      ...       ...   \n",
       "19681              0      0  -27,68689795  -48,71353263  SPRF-SC  DEL01-SC   \n",
       "19682              0      0  -26,92203838  -48,95884931      NaN       NaN   \n",
       "19683              1      0  -26,92203838  -48,95884931      NaN       NaN   \n",
       "19684              1      0  -26,92203838  -48,95884931      NaN       NaN   \n",
       "19685              1      0  -27,65237092  -48,67664337      NaN       NaN   \n",
       "\n",
       "                  uop  \n",
       "0      UOP03-DEL04-SC  \n",
       "1      UOP03-DEL02-SC  \n",
       "2      UOP03-DEL02-SC  \n",
       "3      UOP03-DEL02-SC  \n",
       "4      UOP01-DEL03-SC  \n",
       "...               ...  \n",
       "19681  UOP02-DEL01-SC  \n",
       "19682             NaN  \n",
       "19683             NaN  \n",
       "19684             NaN  \n",
       "19685             NaN  \n",
       "\n",
       "[19686 rows x 36 columns]"
      ]
     },
     "execution_count": 546,
     "metadata": {},
     "output_type": "execute_result"
    }
   ],
   "source": [
    "acidentes_sc_1"
   ]
  },
  {
   "cell_type": "markdown",
   "id": "bff52c73-13b5-4ace-b03b-e3ff6c5b4efe",
   "metadata": {},
   "source": [
    "# 1- Seleção e Criação de Variáveis"
   ]
  },
  {
   "cell_type": "markdown",
   "id": "7c669ee6-94ca-4ac5-8d4c-11485ab39306",
   "metadata": {},
   "source": [
    "Lista de variáveis a serem analisadas:\n",
    "\n",
    "- dia_semana;\n",
    "- horario;\n",
    "- causa_acidente;\n",
    "- municipio;\n",
    "- mortos;\n",
    "- tipo_veiculo."
   ]
  },
  {
   "cell_type": "markdown",
   "id": "a716f7ba-3380-4a22-a326-9e0b21c33201",
   "metadata": {},
   "source": [
    "Também criaremos variáveis para análise:\n",
    "- número de acidentes por município;\n",
    "- número de acidentes por dia da semana e horário."
   ]
  },
  {
   "cell_type": "code",
   "execution_count": 547,
   "id": "bf138fac-c907-41c1-acd0-0595be5b5a70",
   "metadata": {
    "jupyter": {
     "source_hidden": true
    }
   },
   "outputs": [],
   "source": [
    "# selecionando as colunas que serão utilizadas e salvando em um arquivo csv separado\n",
    "\n",
    "colunas_selecionadas = ['dia_semana', 'horario', 'mortos', 'causa_acidente', 'municipio', 'tipo_veiculo']\n",
    "acidentes_sc_colunas_selecionadas = acidentes_sc_1[colunas_selecionadas].copy()\n",
    "acidentes_sc_colunas_selecionadas.to_csv(current_path.replace('/notebooks', '') + '/data/interim/acidentes_sc_colunas_selecionadas.csv')"
   ]
  },
  {
   "cell_type": "code",
   "execution_count": 548,
   "id": "2c0cbac0-a7eb-4e4e-8412-d2acb9f0fedf",
   "metadata": {
    "jupyter": {
     "source_hidden": true
    }
   },
   "outputs": [],
   "source": [
    "# fazendo um novo dataframe de número de acidentes por município\n",
    "\n",
    "values = acidentes_sc_colunas_selecionadas['municipio'].value_counts().keys().tolist()\n",
    "counts = acidentes_sc_colunas_selecionadas['municipio'].value_counts().tolist()\n",
    "municipios_se = pd.Series(values, name='municipio')\n",
    "numero_acidentes_municipio_se = pd.Series(counts, name='numero_acidentes')\n",
    "numero_acidentes_por_municipio = pd.concat([municipios_se, numero_acidentes_municipio_se], axis=1)"
   ]
  },
  {
   "cell_type": "code",
   "execution_count": 549,
   "id": "85145486-dca4-46f6-aaf0-7c68432092bd",
   "metadata": {
    "jupyter": {
     "source_hidden": true
    }
   },
   "outputs": [],
   "source": [
    "# criando uma coluna somente com o valor de hora do horário\n",
    "\n",
    "acidentes_sc_colunas_selecionadas['hora'] = acidentes_sc_colunas_selecionadas['horario'].map(lambda x: x[0:2])"
   ]
  },
  {
   "cell_type": "code",
   "execution_count": 550,
   "id": "c1a72d22-5d5b-4042-adec-07a3303c0065",
   "metadata": {
    "jupyter": {
     "source_hidden": true
    }
   },
   "outputs": [],
   "source": [
    "# criando um dataframe com o número de acidentes por faixa de horário\n",
    "\n",
    "values = acidentes_sc_colunas_selecionadas['hora'].value_counts().keys().tolist()\n",
    "counts = acidentes_sc_colunas_selecionadas['hora'].value_counts().tolist()\n",
    "horario_se = pd.Series(values, name='hora')\n",
    "numero_acidentes_horario_se = pd.Series(counts, name='numero_acidentes')\n",
    "numero_acidentes_por_horario = pd.concat([horario_se, numero_acidentes_horario_se], axis=1)"
   ]
  },
  {
   "cell_type": "code",
   "execution_count": 551,
   "id": "9bc383a4-2169-445f-b49a-7108d1dc5669",
   "metadata": {
    "jupyter": {
     "source_hidden": true
    }
   },
   "outputs": [],
   "source": [
    "# criando uma coluna com os dias da semana codificados numericamente\n",
    "\n",
    "dias_da_semana = {\n",
    "    \"domingo\": 0,\n",
    "    \"segunda-feira\": 1,\n",
    "    \"terça-feira\": 2,\n",
    "    \"quarta-feira\": 3,\n",
    "    \"quinta-feira\": 4,\n",
    "    \"sexta-feira\": 5,\n",
    "    \"sábado\": 6\n",
    "}\n",
    "\n",
    "acidentes_sc_colunas_selecionadas['dia_semana_codificado'] = acidentes_sc_colunas_selecionadas['dia_semana'].map(dias_da_semana)"
   ]
  },
  {
   "cell_type": "code",
   "execution_count": 552,
   "id": "0a59ea0d-1e70-458e-bf4c-25ec08e1b2cf",
   "metadata": {
    "jupyter": {
     "source_hidden": true
    }
   },
   "outputs": [],
   "source": [
    "# criando um dataframe com o número de acidentes por dia da semana\n",
    "\n",
    "values = acidentes_sc_colunas_selecionadas['dia_semana'].value_counts().keys().tolist()\n",
    "counts = acidentes_sc_colunas_selecionadas['dia_semana'].value_counts().tolist()\n",
    "dia_semana_se = pd.Series(values, name='dia_semana')\n",
    "numero_acidentes_dia_semana_se = pd.Series(counts, name='numero_acidentes')\n",
    "numero_acidentes_por_dia_semana = pd.concat([dia_semana_se, numero_acidentes_dia_semana_se], axis=1)"
   ]
  },
  {
   "cell_type": "markdown",
   "id": "c409e6da-fcc0-4144-8e66-8f4d7ad3045e",
   "metadata": {},
   "source": [
    "# 2- Tabelas de Frequência"
   ]
  },
  {
   "cell_type": "markdown",
   "id": "e2541ba4-bcc6-41c7-90e1-de716ee18b16",
   "metadata": {},
   "source": [
    "Para as variáveis numéricas criadas na seção anterior, os dataframes criados já servirão como tabelas de frequência para as variáveis 'municipio', 'horario' e'dia_semana'."
   ]
  },
  {
   "cell_type": "code",
   "execution_count": 553,
   "id": "16644d28-3f76-44b9-8138-3857513f9748",
   "metadata": {},
   "outputs": [
    {
     "data": {
      "text/html": [
       "<div>\n",
       "<style scoped>\n",
       "    .dataframe tbody tr th:only-of-type {\n",
       "        vertical-align: middle;\n",
       "    }\n",
       "\n",
       "    .dataframe tbody tr th {\n",
       "        vertical-align: top;\n",
       "    }\n",
       "\n",
       "    .dataframe thead th {\n",
       "        text-align: right;\n",
       "    }\n",
       "</style>\n",
       "<table border=\"1\" class=\"dataframe\">\n",
       "  <thead>\n",
       "    <tr style=\"text-align: right;\">\n",
       "      <th></th>\n",
       "      <th>municipio</th>\n",
       "      <th>numero_acidentes</th>\n",
       "    </tr>\n",
       "  </thead>\n",
       "  <tbody>\n",
       "    <tr>\n",
       "      <th>0</th>\n",
       "      <td>SAO JOSE</td>\n",
       "      <td>1658</td>\n",
       "    </tr>\n",
       "    <tr>\n",
       "      <th>1</th>\n",
       "      <td>PALHOCA</td>\n",
       "      <td>1346</td>\n",
       "    </tr>\n",
       "    <tr>\n",
       "      <th>2</th>\n",
       "      <td>ITAJAI</td>\n",
       "      <td>880</td>\n",
       "    </tr>\n",
       "    <tr>\n",
       "      <th>3</th>\n",
       "      <td>BALNEARIO CAMBORIU</td>\n",
       "      <td>726</td>\n",
       "    </tr>\n",
       "    <tr>\n",
       "      <th>4</th>\n",
       "      <td>JOINVILLE</td>\n",
       "      <td>682</td>\n",
       "    </tr>\n",
       "    <tr>\n",
       "      <th>...</th>\n",
       "      <td>...</td>\n",
       "      <td>...</td>\n",
       "    </tr>\n",
       "    <tr>\n",
       "      <th>113</th>\n",
       "      <td>FLOR DO SERTAO</td>\n",
       "      <td>4</td>\n",
       "    </tr>\n",
       "    <tr>\n",
       "      <th>114</th>\n",
       "      <td>TREZE DE MAIO</td>\n",
       "      <td>3</td>\n",
       "    </tr>\n",
       "    <tr>\n",
       "      <th>115</th>\n",
       "      <td>BALNEARIO BARRA DO SUL</td>\n",
       "      <td>2</td>\n",
       "    </tr>\n",
       "    <tr>\n",
       "      <th>116</th>\n",
       "      <td>SALETE</td>\n",
       "      <td>1</td>\n",
       "    </tr>\n",
       "    <tr>\n",
       "      <th>117</th>\n",
       "      <td>BELA VISTA DO TOLDO</td>\n",
       "      <td>1</td>\n",
       "    </tr>\n",
       "  </tbody>\n",
       "</table>\n",
       "<p>118 rows × 2 columns</p>\n",
       "</div>"
      ],
      "text/plain": [
       "                  municipio  numero_acidentes\n",
       "0                  SAO JOSE              1658\n",
       "1                   PALHOCA              1346\n",
       "2                    ITAJAI               880\n",
       "3        BALNEARIO CAMBORIU               726\n",
       "4                 JOINVILLE               682\n",
       "..                      ...               ...\n",
       "113          FLOR DO SERTAO                 4\n",
       "114           TREZE DE MAIO                 3\n",
       "115  BALNEARIO BARRA DO SUL                 2\n",
       "116                  SALETE                 1\n",
       "117     BELA VISTA DO TOLDO                 1\n",
       "\n",
       "[118 rows x 2 columns]"
      ]
     },
     "execution_count": 553,
     "metadata": {},
     "output_type": "execute_result"
    }
   ],
   "source": [
    "numero_acidentes_por_municipio"
   ]
  },
  {
   "cell_type": "code",
   "execution_count": 554,
   "id": "9ec92d8b-0baf-440e-82be-dad1c9aa5e06",
   "metadata": {},
   "outputs": [
    {
     "data": {
      "text/html": [
       "<div>\n",
       "<style scoped>\n",
       "    .dataframe tbody tr th:only-of-type {\n",
       "        vertical-align: middle;\n",
       "    }\n",
       "\n",
       "    .dataframe tbody tr th {\n",
       "        vertical-align: top;\n",
       "    }\n",
       "\n",
       "    .dataframe thead th {\n",
       "        text-align: right;\n",
       "    }\n",
       "</style>\n",
       "<table border=\"1\" class=\"dataframe\">\n",
       "  <thead>\n",
       "    <tr style=\"text-align: right;\">\n",
       "      <th></th>\n",
       "      <th>hora</th>\n",
       "      <th>numero_acidentes</th>\n",
       "    </tr>\n",
       "  </thead>\n",
       "  <tbody>\n",
       "    <tr>\n",
       "      <th>0</th>\n",
       "      <td>18</td>\n",
       "      <td>1548</td>\n",
       "    </tr>\n",
       "    <tr>\n",
       "      <th>1</th>\n",
       "      <td>17</td>\n",
       "      <td>1323</td>\n",
       "    </tr>\n",
       "    <tr>\n",
       "      <th>2</th>\n",
       "      <td>19</td>\n",
       "      <td>1241</td>\n",
       "    </tr>\n",
       "    <tr>\n",
       "      <th>3</th>\n",
       "      <td>16</td>\n",
       "      <td>1172</td>\n",
       "    </tr>\n",
       "    <tr>\n",
       "      <th>4</th>\n",
       "      <td>07</td>\n",
       "      <td>1137</td>\n",
       "    </tr>\n",
       "    <tr>\n",
       "      <th>5</th>\n",
       "      <td>14</td>\n",
       "      <td>983</td>\n",
       "    </tr>\n",
       "    <tr>\n",
       "      <th>6</th>\n",
       "      <td>11</td>\n",
       "      <td>963</td>\n",
       "    </tr>\n",
       "    <tr>\n",
       "      <th>7</th>\n",
       "      <td>15</td>\n",
       "      <td>959</td>\n",
       "    </tr>\n",
       "    <tr>\n",
       "      <th>8</th>\n",
       "      <td>08</td>\n",
       "      <td>946</td>\n",
       "    </tr>\n",
       "    <tr>\n",
       "      <th>9</th>\n",
       "      <td>12</td>\n",
       "      <td>911</td>\n",
       "    </tr>\n",
       "    <tr>\n",
       "      <th>10</th>\n",
       "      <td>13</td>\n",
       "      <td>896</td>\n",
       "    </tr>\n",
       "    <tr>\n",
       "      <th>11</th>\n",
       "      <td>10</td>\n",
       "      <td>885</td>\n",
       "    </tr>\n",
       "    <tr>\n",
       "      <th>12</th>\n",
       "      <td>20</td>\n",
       "      <td>875</td>\n",
       "    </tr>\n",
       "    <tr>\n",
       "      <th>13</th>\n",
       "      <td>06</td>\n",
       "      <td>869</td>\n",
       "    </tr>\n",
       "    <tr>\n",
       "      <th>14</th>\n",
       "      <td>09</td>\n",
       "      <td>780</td>\n",
       "    </tr>\n",
       "    <tr>\n",
       "      <th>15</th>\n",
       "      <td>21</td>\n",
       "      <td>655</td>\n",
       "    </tr>\n",
       "    <tr>\n",
       "      <th>16</th>\n",
       "      <td>22</td>\n",
       "      <td>622</td>\n",
       "    </tr>\n",
       "    <tr>\n",
       "      <th>17</th>\n",
       "      <td>23</td>\n",
       "      <td>558</td>\n",
       "    </tr>\n",
       "    <tr>\n",
       "      <th>18</th>\n",
       "      <td>05</td>\n",
       "      <td>466</td>\n",
       "    </tr>\n",
       "    <tr>\n",
       "      <th>19</th>\n",
       "      <td>00</td>\n",
       "      <td>441</td>\n",
       "    </tr>\n",
       "    <tr>\n",
       "      <th>20</th>\n",
       "      <td>04</td>\n",
       "      <td>425</td>\n",
       "    </tr>\n",
       "    <tr>\n",
       "      <th>21</th>\n",
       "      <td>02</td>\n",
       "      <td>360</td>\n",
       "    </tr>\n",
       "    <tr>\n",
       "      <th>22</th>\n",
       "      <td>03</td>\n",
       "      <td>351</td>\n",
       "    </tr>\n",
       "    <tr>\n",
       "      <th>23</th>\n",
       "      <td>01</td>\n",
       "      <td>320</td>\n",
       "    </tr>\n",
       "  </tbody>\n",
       "</table>\n",
       "</div>"
      ],
      "text/plain": [
       "   hora  numero_acidentes\n",
       "0    18              1548\n",
       "1    17              1323\n",
       "2    19              1241\n",
       "3    16              1172\n",
       "4    07              1137\n",
       "5    14               983\n",
       "6    11               963\n",
       "7    15               959\n",
       "8    08               946\n",
       "9    12               911\n",
       "10   13               896\n",
       "11   10               885\n",
       "12   20               875\n",
       "13   06               869\n",
       "14   09               780\n",
       "15   21               655\n",
       "16   22               622\n",
       "17   23               558\n",
       "18   05               466\n",
       "19   00               441\n",
       "20   04               425\n",
       "21   02               360\n",
       "22   03               351\n",
       "23   01               320"
      ]
     },
     "execution_count": 554,
     "metadata": {},
     "output_type": "execute_result"
    }
   ],
   "source": [
    "numero_acidentes_por_horario"
   ]
  },
  {
   "cell_type": "code",
   "execution_count": 555,
   "id": "b516fd9f-f5aa-4cb9-a9e7-5cd398a04608",
   "metadata": {},
   "outputs": [
    {
     "data": {
      "text/html": [
       "<div>\n",
       "<style scoped>\n",
       "    .dataframe tbody tr th:only-of-type {\n",
       "        vertical-align: middle;\n",
       "    }\n",
       "\n",
       "    .dataframe tbody tr th {\n",
       "        vertical-align: top;\n",
       "    }\n",
       "\n",
       "    .dataframe thead th {\n",
       "        text-align: right;\n",
       "    }\n",
       "</style>\n",
       "<table border=\"1\" class=\"dataframe\">\n",
       "  <thead>\n",
       "    <tr style=\"text-align: right;\">\n",
       "      <th></th>\n",
       "      <th>dia_semana</th>\n",
       "      <th>numero_acidentes</th>\n",
       "    </tr>\n",
       "  </thead>\n",
       "  <tbody>\n",
       "    <tr>\n",
       "      <th>0</th>\n",
       "      <td>sábado</td>\n",
       "      <td>3353</td>\n",
       "    </tr>\n",
       "    <tr>\n",
       "      <th>1</th>\n",
       "      <td>sexta-feira</td>\n",
       "      <td>3200</td>\n",
       "    </tr>\n",
       "    <tr>\n",
       "      <th>2</th>\n",
       "      <td>domingo</td>\n",
       "      <td>3175</td>\n",
       "    </tr>\n",
       "    <tr>\n",
       "      <th>3</th>\n",
       "      <td>segunda-feira</td>\n",
       "      <td>2634</td>\n",
       "    </tr>\n",
       "    <tr>\n",
       "      <th>4</th>\n",
       "      <td>quinta-feira</td>\n",
       "      <td>2548</td>\n",
       "    </tr>\n",
       "    <tr>\n",
       "      <th>5</th>\n",
       "      <td>quarta-feira</td>\n",
       "      <td>2482</td>\n",
       "    </tr>\n",
       "    <tr>\n",
       "      <th>6</th>\n",
       "      <td>terça-feira</td>\n",
       "      <td>2294</td>\n",
       "    </tr>\n",
       "  </tbody>\n",
       "</table>\n",
       "</div>"
      ],
      "text/plain": [
       "      dia_semana  numero_acidentes\n",
       "0         sábado              3353\n",
       "1    sexta-feira              3200\n",
       "2        domingo              3175\n",
       "3  segunda-feira              2634\n",
       "4   quinta-feira              2548\n",
       "5   quarta-feira              2482\n",
       "6    terça-feira              2294"
      ]
     },
     "execution_count": 555,
     "metadata": {},
     "output_type": "execute_result"
    }
   ],
   "source": [
    "numero_acidentes_por_dia_semana"
   ]
  },
  {
   "cell_type": "markdown",
   "id": "b01d452b-8e48-4dea-8331-d84d78c7978f",
   "metadata": {},
   "source": [
    "Seguem as tabelas de frequência para as demais variáveis qualitativas."
   ]
  },
  {
   "cell_type": "code",
   "execution_count": 556,
   "id": "b559260f-66fa-4bcf-93da-be8beafd9e13",
   "metadata": {
    "jupyter": {
     "source_hidden": true
    }
   },
   "outputs": [],
   "source": [
    "values = acidentes_sc_colunas_selecionadas['mortos'].value_counts().keys().tolist()\n",
    "counts = acidentes_sc_colunas_selecionadas['mortos'].value_counts().tolist()\n",
    "fatal_se = pd.Series(values, name='acidente_fatal')\n",
    "numero_acidentes_fatais_se = pd.Series(counts, name='contagem')\n",
    "numero_acidentes_fatais = pd.concat([fatal_se, numero_acidentes_fatais_se], axis=1)"
   ]
  },
  {
   "cell_type": "code",
   "execution_count": 557,
   "id": "8d89008e-5ef1-481c-96a2-e93da47096b7",
   "metadata": {},
   "outputs": [
    {
     "data": {
      "text/html": [
       "<div>\n",
       "<style scoped>\n",
       "    .dataframe tbody tr th:only-of-type {\n",
       "        vertical-align: middle;\n",
       "    }\n",
       "\n",
       "    .dataframe tbody tr th {\n",
       "        vertical-align: top;\n",
       "    }\n",
       "\n",
       "    .dataframe thead th {\n",
       "        text-align: right;\n",
       "    }\n",
       "</style>\n",
       "<table border=\"1\" class=\"dataframe\">\n",
       "  <thead>\n",
       "    <tr style=\"text-align: right;\">\n",
       "      <th></th>\n",
       "      <th>acidente_fatal</th>\n",
       "      <th>contagem</th>\n",
       "    </tr>\n",
       "  </thead>\n",
       "  <tbody>\n",
       "    <tr>\n",
       "      <th>0</th>\n",
       "      <td>0</td>\n",
       "      <td>19321</td>\n",
       "    </tr>\n",
       "    <tr>\n",
       "      <th>1</th>\n",
       "      <td>1</td>\n",
       "      <td>365</td>\n",
       "    </tr>\n",
       "  </tbody>\n",
       "</table>\n",
       "</div>"
      ],
      "text/plain": [
       "   acidente_fatal  contagem\n",
       "0               0     19321\n",
       "1               1       365"
      ]
     },
     "execution_count": 557,
     "metadata": {},
     "output_type": "execute_result"
    }
   ],
   "source": [
    "numero_acidentes_fatais"
   ]
  },
  {
   "cell_type": "code",
   "execution_count": 558,
   "id": "e3145e5f-16fe-4f30-84c9-98394440d8ca",
   "metadata": {
    "jupyter": {
     "source_hidden": true
    }
   },
   "outputs": [],
   "source": [
    "values = acidentes_sc_colunas_selecionadas['causa_acidente'].value_counts().keys().tolist()\n",
    "counts = acidentes_sc_colunas_selecionadas['causa_acidente'].value_counts().tolist()\n",
    "causa_acidente_se = pd.Series(values, name='causa_acidente')\n",
    "contagem_causa_acidente_se = pd.Series(counts, name='contagem')\n",
    "contagem_causa_acidente = pd.concat([causa_acidente_se, contagem_causa_acidente_se], axis=1)"
   ]
  },
  {
   "cell_type": "code",
   "execution_count": 559,
   "id": "cf3418fa-bbab-4a60-8f76-6853aaf062eb",
   "metadata": {},
   "outputs": [
    {
     "data": {
      "text/html": [
       "<div>\n",
       "<style scoped>\n",
       "    .dataframe tbody tr th:only-of-type {\n",
       "        vertical-align: middle;\n",
       "    }\n",
       "\n",
       "    .dataframe tbody tr th {\n",
       "        vertical-align: top;\n",
       "    }\n",
       "\n",
       "    .dataframe thead th {\n",
       "        text-align: right;\n",
       "    }\n",
       "</style>\n",
       "<table border=\"1\" class=\"dataframe\">\n",
       "  <thead>\n",
       "    <tr style=\"text-align: right;\">\n",
       "      <th></th>\n",
       "      <th>causa_acidente</th>\n",
       "      <th>contagem</th>\n",
       "    </tr>\n",
       "  </thead>\n",
       "  <tbody>\n",
       "    <tr>\n",
       "      <th>0</th>\n",
       "      <td>Ausência de reação do condutor</td>\n",
       "      <td>2620</td>\n",
       "    </tr>\n",
       "    <tr>\n",
       "      <th>1</th>\n",
       "      <td>Reação tardia ou ineficiente do condutor</td>\n",
       "      <td>2523</td>\n",
       "    </tr>\n",
       "    <tr>\n",
       "      <th>2</th>\n",
       "      <td>Acessar a via sem observar a presença dos outr...</td>\n",
       "      <td>2263</td>\n",
       "    </tr>\n",
       "    <tr>\n",
       "      <th>3</th>\n",
       "      <td>Condutor deixou de manter distância do veículo...</td>\n",
       "      <td>1752</td>\n",
       "    </tr>\n",
       "    <tr>\n",
       "      <th>4</th>\n",
       "      <td>Manobra de mudança de faixa</td>\n",
       "      <td>1347</td>\n",
       "    </tr>\n",
       "    <tr>\n",
       "      <th>...</th>\n",
       "      <td>...</td>\n",
       "      <td>...</td>\n",
       "    </tr>\n",
       "    <tr>\n",
       "      <th>64</th>\n",
       "      <td>Declive acentuado</td>\n",
       "      <td>2</td>\n",
       "    </tr>\n",
       "    <tr>\n",
       "      <th>65</th>\n",
       "      <td>Restrição de visibilidade em curvas verticais</td>\n",
       "      <td>2</td>\n",
       "    </tr>\n",
       "    <tr>\n",
       "      <th>66</th>\n",
       "      <td>Modificação proibida</td>\n",
       "      <td>2</td>\n",
       "    </tr>\n",
       "    <tr>\n",
       "      <th>67</th>\n",
       "      <td>Sinalização encoberta</td>\n",
       "      <td>1</td>\n",
       "    </tr>\n",
       "    <tr>\n",
       "      <th>68</th>\n",
       "      <td>Fumaça</td>\n",
       "      <td>1</td>\n",
       "    </tr>\n",
       "  </tbody>\n",
       "</table>\n",
       "<p>69 rows × 2 columns</p>\n",
       "</div>"
      ],
      "text/plain": [
       "                                       causa_acidente  contagem\n",
       "0                      Ausência de reação do condutor      2620\n",
       "1            Reação tardia ou ineficiente do condutor      2523\n",
       "2   Acessar a via sem observar a presença dos outr...      2263\n",
       "3   Condutor deixou de manter distância do veículo...      1752\n",
       "4                         Manobra de mudança de faixa      1347\n",
       "..                                                ...       ...\n",
       "64                                  Declive acentuado         2\n",
       "65      Restrição de visibilidade em curvas verticais         2\n",
       "66                               Modificação proibida         2\n",
       "67                              Sinalização encoberta         1\n",
       "68                                             Fumaça         1\n",
       "\n",
       "[69 rows x 2 columns]"
      ]
     },
     "execution_count": 559,
     "metadata": {},
     "output_type": "execute_result"
    }
   ],
   "source": [
    "contagem_causa_acidente"
   ]
  },
  {
   "cell_type": "code",
   "execution_count": 560,
   "id": "149fb295-708d-487a-996f-33c956db17b1",
   "metadata": {
    "jupyter": {
     "source_hidden": true
    }
   },
   "outputs": [],
   "source": [
    "values = acidentes_sc_colunas_selecionadas['tipo_veiculo'].value_counts().keys().tolist()\n",
    "counts = acidentes_sc_colunas_selecionadas['tipo_veiculo'].value_counts().tolist()\n",
    "tipo_veiculo_se = pd.Series(values, name='tipo_veiculo')\n",
    "contagem_tipo_veiculo_se = pd.Series(counts, name='contagem')\n",
    "contagem_tipo_veiculo = pd.concat([tipo_veiculo_se, contagem_tipo_veiculo_se], axis=1)"
   ]
  },
  {
   "cell_type": "code",
   "execution_count": 561,
   "id": "ec28742d-ac37-4177-af35-6555260125ac",
   "metadata": {},
   "outputs": [
    {
     "data": {
      "text/html": [
       "<div>\n",
       "<style scoped>\n",
       "    .dataframe tbody tr th:only-of-type {\n",
       "        vertical-align: middle;\n",
       "    }\n",
       "\n",
       "    .dataframe tbody tr th {\n",
       "        vertical-align: top;\n",
       "    }\n",
       "\n",
       "    .dataframe thead th {\n",
       "        text-align: right;\n",
       "    }\n",
       "</style>\n",
       "<table border=\"1\" class=\"dataframe\">\n",
       "  <thead>\n",
       "    <tr style=\"text-align: right;\">\n",
       "      <th></th>\n",
       "      <th>tipo_veiculo</th>\n",
       "      <th>contagem</th>\n",
       "    </tr>\n",
       "  </thead>\n",
       "  <tbody>\n",
       "    <tr>\n",
       "      <th>0</th>\n",
       "      <td>Automóvel</td>\n",
       "      <td>8105</td>\n",
       "    </tr>\n",
       "    <tr>\n",
       "      <th>1</th>\n",
       "      <td>Motocicleta</td>\n",
       "      <td>3552</td>\n",
       "    </tr>\n",
       "    <tr>\n",
       "      <th>2</th>\n",
       "      <td>Caminhonete</td>\n",
       "      <td>1344</td>\n",
       "    </tr>\n",
       "    <tr>\n",
       "      <th>3</th>\n",
       "      <td>Semireboque</td>\n",
       "      <td>1199</td>\n",
       "    </tr>\n",
       "    <tr>\n",
       "      <th>4</th>\n",
       "      <td>Caminhão</td>\n",
       "      <td>1106</td>\n",
       "    </tr>\n",
       "    <tr>\n",
       "      <th>5</th>\n",
       "      <td>Caminhão-trator</td>\n",
       "      <td>1106</td>\n",
       "    </tr>\n",
       "    <tr>\n",
       "      <th>6</th>\n",
       "      <td>Motoneta</td>\n",
       "      <td>789</td>\n",
       "    </tr>\n",
       "    <tr>\n",
       "      <th>7</th>\n",
       "      <td>Camioneta</td>\n",
       "      <td>713</td>\n",
       "    </tr>\n",
       "    <tr>\n",
       "      <th>8</th>\n",
       "      <td>Ônibus</td>\n",
       "      <td>366</td>\n",
       "    </tr>\n",
       "    <tr>\n",
       "      <th>9</th>\n",
       "      <td>Utilitário</td>\n",
       "      <td>320</td>\n",
       "    </tr>\n",
       "    <tr>\n",
       "      <th>10</th>\n",
       "      <td>Bicicleta</td>\n",
       "      <td>294</td>\n",
       "    </tr>\n",
       "    <tr>\n",
       "      <th>11</th>\n",
       "      <td>Reboque</td>\n",
       "      <td>96</td>\n",
       "    </tr>\n",
       "    <tr>\n",
       "      <th>12</th>\n",
       "      <td>Micro-ônibus</td>\n",
       "      <td>88</td>\n",
       "    </tr>\n",
       "    <tr>\n",
       "      <th>13</th>\n",
       "      <td>Outros</td>\n",
       "      <td>12</td>\n",
       "    </tr>\n",
       "    <tr>\n",
       "      <th>14</th>\n",
       "      <td>Ciclomotor</td>\n",
       "      <td>10</td>\n",
       "    </tr>\n",
       "    <tr>\n",
       "      <th>15</th>\n",
       "      <td>Motor-casa</td>\n",
       "      <td>8</td>\n",
       "    </tr>\n",
       "    <tr>\n",
       "      <th>16</th>\n",
       "      <td>Trator de rodas</td>\n",
       "      <td>7</td>\n",
       "    </tr>\n",
       "    <tr>\n",
       "      <th>17</th>\n",
       "      <td>Carroça-charrete</td>\n",
       "      <td>4</td>\n",
       "    </tr>\n",
       "    <tr>\n",
       "      <th>18</th>\n",
       "      <td>Carro de mão</td>\n",
       "      <td>2</td>\n",
       "    </tr>\n",
       "    <tr>\n",
       "      <th>19</th>\n",
       "      <td>Trem-bonde</td>\n",
       "      <td>1</td>\n",
       "    </tr>\n",
       "  </tbody>\n",
       "</table>\n",
       "</div>"
      ],
      "text/plain": [
       "        tipo_veiculo  contagem\n",
       "0          Automóvel      8105\n",
       "1        Motocicleta      3552\n",
       "2        Caminhonete      1344\n",
       "3        Semireboque      1199\n",
       "4           Caminhão      1106\n",
       "5    Caminhão-trator      1106\n",
       "6           Motoneta       789\n",
       "7          Camioneta       713\n",
       "8             Ônibus       366\n",
       "9         Utilitário       320\n",
       "10         Bicicleta       294\n",
       "11           Reboque        96\n",
       "12      Micro-ônibus        88\n",
       "13            Outros        12\n",
       "14        Ciclomotor        10\n",
       "15        Motor-casa         8\n",
       "16   Trator de rodas         7\n",
       "17  Carroça-charrete         4\n",
       "18      Carro de mão         2\n",
       "19        Trem-bonde         1"
      ]
     },
     "execution_count": 561,
     "metadata": {},
     "output_type": "execute_result"
    }
   ],
   "source": [
    "contagem_tipo_veiculo"
   ]
  },
  {
   "cell_type": "markdown",
   "id": "c94c71d5-63ba-4d21-b118-2e3e60757c14",
   "metadata": {},
   "source": [
    "# 3- Gráficos Univariados"
   ]
  },
  {
   "cell_type": "markdown",
   "id": "f153bba5-13cb-4566-849c-291ddc13c870",
   "metadata": {},
   "source": [
    "## 3.1 Causas Acidentes (top10 mais frequentes)"
   ]
  },
  {
   "cell_type": "code",
   "execution_count": 562,
   "id": "85a28064-bc09-45fe-91a6-16586fe1eb92",
   "metadata": {
    "jupyter": {
     "source_hidden": true
    }
   },
   "outputs": [
    {
     "data": {
      "image/png": "[encoded data removed]",
      "text/plain": [
       "<Figure size 640x480 with 1 Axes>"
      ]
     },
     "metadata": {},
     "output_type": "display_data"
    }
   ],
   "source": [
    "# selecionando as 10 causas mais frequentes e selecionando os datapoints associados\n",
    "\n",
    "causas = acidentes_sc_colunas_selecionadas['causa_acidente'].value_counts().keys().tolist()[0:10]\n",
    "data = acidentes_sc_colunas_selecionadas.loc[acidentes_sc_colunas_selecionadas['causa_acidente'].isin(causas)]\n",
    "plot = sns.countplot(data=data, x='causa_acidente', order=causas, hue='causa_acidente', legend=True)\n",
    "plot.set(xticklabels=[])\n",
    "sns.move_legend(plot, 'best', ncol=1, bbox_to_anchor=(1, 1), frameon=False)"
   ]
  },
  {
   "cell_type": "markdown",
   "id": "a1c464ca-db6e-4e6f-9577-e8f11729ef8d",
   "metadata": {},
   "source": [
    "## 3.2 Tipo Veículos (top10 mais frequentes)"
   ]
  },
  {
   "cell_type": "code",
   "execution_count": 563,
   "id": "8794452c-a596-47b3-ae95-e0e2cacfa2c0",
   "metadata": {
    "jupyter": {
     "source_hidden": true
    }
   },
   "outputs": [
    {
     "data": {
      "image/png": "[encoded data removed]",
      "text/plain": [
       "<Figure size 640x480 with 1 Axes>"
      ]
     },
     "metadata": {},
     "output_type": "display_data"
    }
   ],
   "source": [
    "# selecionando os 10 mais frequentes e selecionando os datapoints associados\n",
    "\n",
    "veiculos = acidentes_sc_colunas_selecionadas['tipo_veiculo'].value_counts().keys().tolist()[0:10]\n",
    "data = acidentes_sc_colunas_selecionadas.loc[acidentes_sc_colunas_selecionadas['tipo_veiculo'].isin(veiculos)]\n",
    "plot = sns.countplot(data=data, x='tipo_veiculo', order=veiculos, color='teal')\n",
    "locs, labels = plt.xticks()\n",
    "a = plt.setp(labels, rotation=90)"
   ]
  },
  {
   "cell_type": "markdown",
   "id": "8cebf9a8-06ee-4bab-b53e-dc0fb43ecaa3",
   "metadata": {},
   "source": [
    "## 3.3 Município (top10 com mais acidentes)"
   ]
  },
  {
   "cell_type": "code",
   "execution_count": 564,
   "id": "9854513f-b559-42d1-930d-2eeccac908f5",
   "metadata": {
    "jupyter": {
     "source_hidden": true
    }
   },
   "outputs": [
    {
     "data": {
      "image/png": "[encoded data removed]",
      "text/plain": [
       "<Figure size 640x480 with 1 Axes>"
      ]
     },
     "metadata": {},
     "output_type": "display_data"
    }
   ],
   "source": [
    "# selecionando os 10 mais frequentes e selecionando os datapoints associados\n",
    "\n",
    "municipios = acidentes_sc_colunas_selecionadas['municipio'].value_counts().keys().tolist()[0:10]\n",
    "data = acidentes_sc_colunas_selecionadas.loc[acidentes_sc_colunas_selecionadas['municipio'].isin(municipios)]\n",
    "plot = sns.countplot(data=data, x='municipio', order=municipios, color='teal')\n",
    "locs, labels = plt.xticks()\n",
    "a = plt.setp(labels, rotation=90)"
   ]
  },
  {
   "cell_type": "markdown",
   "id": "bd8ef785-cb0a-4677-8cee-c3936fc87695",
   "metadata": {},
   "source": [
    "## 3.4 Acidentes Fatais"
   ]
  },
  {
   "cell_type": "code",
   "execution_count": 565,
   "id": "73682ec6-cddd-4950-a214-ae1d5269cd5d",
   "metadata": {
    "jupyter": {
     "source_hidden": true
    }
   },
   "outputs": [
    {
     "data": {
      "image/png": "[encoded data removed]",
      "text/plain": [
       "<Figure size 640x480 with 1 Axes>"
      ]
     },
     "metadata": {},
     "output_type": "display_data"
    }
   ],
   "source": [
    "plot = sns.countplot(data=acidentes_sc_colunas_selecionadas, x='mortos', color='teal', legend=True)\n",
    "a = plot.set(xticklabels=['Sem mortos', 'Um ou mais mortos'])\n",
    "a = plot.set(xlabel=None)\n",
    "#plot.set_yscale('log')"
   ]
  },
  {
   "cell_type": "markdown",
   "id": "51346bc6-74d1-4b77-902d-45e54ba9e996",
   "metadata": {},
   "source": [
    "No ano passado, em SC, a porcentagem de acidentes fatais em relação ao número total de acidentes foi 1,85%."
   ]
  },
  {
   "cell_type": "markdown",
   "id": "ab697d74-6d6f-4d83-b349-172eb5c2065b",
   "metadata": {},
   "source": [
    "## 3.5 Número de Acidentes por Hora e Dia da Semana"
   ]
  },
  {
   "cell_type": "code",
   "execution_count": 566,
   "id": "809b502f-2033-4f6d-abe9-49f3d46fa451",
   "metadata": {},
   "outputs": [
    {
     "data": {
      "image/png": "[encoded data removed]",
      "text/plain": [
       "<Figure size 1500x500 with 2 Axes>"
      ]
     },
     "metadata": {},
     "output_type": "display_data"
    }
   ],
   "source": [
    "fig, (ax0, ax1) = plt.subplots(1, 2, sharey = 'row',figsize = (15, 5))\n",
    "\n",
    "sns.countplot(data=acidentes_sc_colunas_selecionadas.sort_values(by='hora'), x='hora', ax=ax0, color='teal')\n",
    "sns.countplot(data=acidentes_sc_colunas_selecionadas.sort_values(by='dia_semana_codificado'), x='dia_semana', ax=ax1, color='navy')\n",
    "locs, labels = plt.xticks()\n",
    "a = plt.setp(labels, rotation=90)"
   ]
  },
  {
   "cell_type": "markdown",
   "id": "141f366f-f016-4757-b475-9dc9c1e45367",
   "metadata": {},
   "source": [
    "## 3.6 Boxplots das Variáveis Numéricas "
   ]
  },
  {
   "cell_type": "markdown",
   "id": "0984938a-72b5-4150-a4e0-dbb84742f325",
   "metadata": {},
   "source": [
    "Abaixo, calculamos algumas métricas e plotaremos gráficos de caixa para as seguintes variáveis:\n",
    "- Número de Acidentes por Município;\n",
    "- Número de Acidentes por Horário;\n",
    "- Número de Acidentes por Dia da Semana."
   ]
  },
  {
   "cell_type": "markdown",
   "id": "7fef52e8-1bf1-416c-9497-1e1078718299",
   "metadata": {},
   "source": [
    "### 3.6.1 Número de Acidentes por Município"
   ]
  },
  {
   "cell_type": "code",
   "execution_count": 567,
   "id": "ebea8716-1723-465a-9348-8ed520f27eb7",
   "metadata": {
    "jupyter": {
     "source_hidden": true
    }
   },
   "outputs": [
    {
     "data": {
      "text/html": [
       "<div>\n",
       "<style scoped>\n",
       "    .dataframe tbody tr th:only-of-type {\n",
       "        vertical-align: middle;\n",
       "    }\n",
       "\n",
       "    .dataframe tbody tr th {\n",
       "        vertical-align: top;\n",
       "    }\n",
       "\n",
       "    .dataframe thead th {\n",
       "        text-align: right;\n",
       "    }\n",
       "</style>\n",
       "<table border=\"1\" class=\"dataframe\">\n",
       "  <thead>\n",
       "    <tr style=\"text-align: right;\">\n",
       "      <th></th>\n",
       "      <th>attributes</th>\n",
       "      <th>min</th>\n",
       "      <th>max</th>\n",
       "      <th>range</th>\n",
       "      <th>mean</th>\n",
       "      <th>median</th>\n",
       "      <th>std</th>\n",
       "    </tr>\n",
       "  </thead>\n",
       "  <tbody>\n",
       "    <tr>\n",
       "      <th>0</th>\n",
       "      <td>numero_acidentes</td>\n",
       "      <td>1</td>\n",
       "      <td>1658</td>\n",
       "      <td>1657</td>\n",
       "      <td>166.830508</td>\n",
       "      <td>90.5</td>\n",
       "      <td>239.7105</td>\n",
       "    </tr>\n",
       "  </tbody>\n",
       "</table>\n",
       "</div>"
      ],
      "text/plain": [
       "         attributes  min   max  range        mean  median       std\n",
       "0  numero_acidentes    1  1658   1657  166.830508    90.5  239.7105"
      ]
     },
     "execution_count": 567,
     "metadata": {},
     "output_type": "execute_result"
    }
   ],
   "source": [
    "num_attributes = numero_acidentes_por_municipio.select_dtypes(include=['int64'])\n",
    "moments_table = show_descriptive_statistics(num_attributes)\n",
    "moments_table"
   ]
  },
  {
   "cell_type": "code",
   "execution_count": 568,
   "id": "b90a26df-36a1-4921-b79f-7245c8f29545",
   "metadata": {},
   "outputs": [
    {
     "data": {
      "image/png": "[encoded data removed]",
      "text/plain": [
       "<Figure size 640x480 with 1 Axes>"
      ]
     },
     "metadata": {},
     "output_type": "display_data"
    }
   ],
   "source": [
    "plot = sns.boxplot(data=numero_acidentes_por_municipio, y='numero_acidentes')"
   ]
  },
  {
   "cell_type": "markdown",
   "id": "e662e9bc-8897-4775-be71-834223e51924",
   "metadata": {},
   "source": [
    "### 3.6.2 Número de Acidentes por Horário"
   ]
  },
  {
   "cell_type": "code",
   "execution_count": 569,
   "id": "f569aeb1-1285-4c51-a485-6a28df798d8d",
   "metadata": {
    "jupyter": {
     "source_hidden": true
    }
   },
   "outputs": [
    {
     "data": {
      "text/html": [
       "<div>\n",
       "<style scoped>\n",
       "    .dataframe tbody tr th:only-of-type {\n",
       "        vertical-align: middle;\n",
       "    }\n",
       "\n",
       "    .dataframe tbody tr th {\n",
       "        vertical-align: top;\n",
       "    }\n",
       "\n",
       "    .dataframe thead th {\n",
       "        text-align: right;\n",
       "    }\n",
       "</style>\n",
       "<table border=\"1\" class=\"dataframe\">\n",
       "  <thead>\n",
       "    <tr style=\"text-align: right;\">\n",
       "      <th></th>\n",
       "      <th>attributes</th>\n",
       "      <th>min</th>\n",
       "      <th>max</th>\n",
       "      <th>range</th>\n",
       "      <th>mean</th>\n",
       "      <th>median</th>\n",
       "      <th>std</th>\n",
       "    </tr>\n",
       "  </thead>\n",
       "  <tbody>\n",
       "    <tr>\n",
       "      <th>0</th>\n",
       "      <td>numero_acidentes</td>\n",
       "      <td>320</td>\n",
       "      <td>1548</td>\n",
       "      <td>1228</td>\n",
       "      <td>820.25</td>\n",
       "      <td>880.0</td>\n",
       "      <td>324.920792</td>\n",
       "    </tr>\n",
       "  </tbody>\n",
       "</table>\n",
       "</div>"
      ],
      "text/plain": [
       "         attributes  min   max  range    mean  median         std\n",
       "0  numero_acidentes  320  1548   1228  820.25   880.0  324.920792"
      ]
     },
     "execution_count": 569,
     "metadata": {},
     "output_type": "execute_result"
    }
   ],
   "source": [
    "num_attributes = numero_acidentes_por_horario.select_dtypes(include=['int64'])\n",
    "moments_table = show_descriptive_statistics(num_attributes)\n",
    "moments_table"
   ]
  },
  {
   "cell_type": "code",
   "execution_count": 570,
   "id": "5d753252-262b-48c5-a7f4-d35f82d80144",
   "metadata": {},
   "outputs": [
    {
     "data": {
      "image/png": "[encoded data removed]",
      "text/plain": [
       "<Figure size 640x480 with 1 Axes>"
      ]
     },
     "metadata": {},
     "output_type": "display_data"
    }
   ],
   "source": [
    "plot = sns.boxplot(data=numero_acidentes_por_horario, y='numero_acidentes')"
   ]
  },
  {
   "cell_type": "markdown",
   "id": "78eb2d8c-0e82-4702-8ea4-2da4b8246e7b",
   "metadata": {},
   "source": [
    "### 3.6.3 Número de Acidentes por Dia da Semana"
   ]
  },
  {
   "cell_type": "code",
   "execution_count": 571,
   "id": "5ba2edeb-7e64-4f31-a225-289e3eb089ef",
   "metadata": {
    "jupyter": {
     "source_hidden": true
    }
   },
   "outputs": [
    {
     "data": {
      "text/html": [
       "<div>\n",
       "<style scoped>\n",
       "    .dataframe tbody tr th:only-of-type {\n",
       "        vertical-align: middle;\n",
       "    }\n",
       "\n",
       "    .dataframe tbody tr th {\n",
       "        vertical-align: top;\n",
       "    }\n",
       "\n",
       "    .dataframe thead th {\n",
       "        text-align: right;\n",
       "    }\n",
       "</style>\n",
       "<table border=\"1\" class=\"dataframe\">\n",
       "  <thead>\n",
       "    <tr style=\"text-align: right;\">\n",
       "      <th></th>\n",
       "      <th>attributes</th>\n",
       "      <th>min</th>\n",
       "      <th>max</th>\n",
       "      <th>range</th>\n",
       "      <th>mean</th>\n",
       "      <th>median</th>\n",
       "      <th>std</th>\n",
       "    </tr>\n",
       "  </thead>\n",
       "  <tbody>\n",
       "    <tr>\n",
       "      <th>0</th>\n",
       "      <td>numero_acidentes</td>\n",
       "      <td>2294</td>\n",
       "      <td>3353</td>\n",
       "      <td>1059</td>\n",
       "      <td>2812.285714</td>\n",
       "      <td>2634.0</td>\n",
       "      <td>387.961233</td>\n",
       "    </tr>\n",
       "  </tbody>\n",
       "</table>\n",
       "</div>"
      ],
      "text/plain": [
       "         attributes   min   max  range         mean  median         std\n",
       "0  numero_acidentes  2294  3353   1059  2812.285714  2634.0  387.961233"
      ]
     },
     "execution_count": 571,
     "metadata": {},
     "output_type": "execute_result"
    }
   ],
   "source": [
    "num_attributes = numero_acidentes_por_dia_semana.select_dtypes(include=['int64'])\n",
    "moments_table = show_descriptive_statistics(num_attributes)\n",
    "moments_table"
   ]
  },
  {
   "cell_type": "code",
   "execution_count": 572,
   "id": "e3217b38-cfd4-46a5-981b-b42ecf142054",
   "metadata": {},
   "outputs": [
    {
     "data": {
      "image/png": "[encoded data removed]",
      "text/plain": [
       "<Figure size 640x480 with 1 Axes>"
      ]
     },
     "metadata": {},
     "output_type": "display_data"
    }
   ],
   "source": [
    "plot = sns.boxplot(data=numero_acidentes_por_dia_semana, y='numero_acidentes')"
   ]
  },
  {
   "cell_type": "markdown",
   "id": "de636094-852e-42da-8650-a7bd7b5d22e6",
   "metadata": {},
   "source": [
    "# 4- Tabelas Bivariadas"
   ]
  },
  {
   "cell_type": "markdown",
   "id": "a57af7bc-af3c-406d-a690-434330b45287",
   "metadata": {},
   "source": [
    "## 4.1 Número de Acidentes Fatais por Veículo (top10 veículos)"
   ]
  },
  {
   "cell_type": "code",
   "execution_count": 573,
   "id": "c4fee703-b764-40c6-96d2-45188c947a1f",
   "metadata": {
    "jupyter": {
     "source_hidden": true
    }
   },
   "outputs": [
    {
     "data": {
      "text/html": [
       "<div>\n",
       "<style scoped>\n",
       "    .dataframe tbody tr th:only-of-type {\n",
       "        vertical-align: middle;\n",
       "    }\n",
       "\n",
       "    .dataframe tbody tr th {\n",
       "        vertical-align: top;\n",
       "    }\n",
       "\n",
       "    .dataframe thead th {\n",
       "        text-align: right;\n",
       "    }\n",
       "</style>\n",
       "<table border=\"1\" class=\"dataframe\">\n",
       "  <thead>\n",
       "    <tr style=\"text-align: right;\">\n",
       "      <th></th>\n",
       "      <th>tipo_veiculo</th>\n",
       "      <th>numero_acidentes</th>\n",
       "      <th>acidentes_fatais</th>\n",
       "      <th>porcentagem_acidentes_fatais</th>\n",
       "    </tr>\n",
       "  </thead>\n",
       "  <tbody>\n",
       "    <tr>\n",
       "      <th>0</th>\n",
       "      <td>Caminhão</td>\n",
       "      <td>1106</td>\n",
       "      <td>19</td>\n",
       "      <td>1.717902</td>\n",
       "    </tr>\n",
       "    <tr>\n",
       "      <th>1</th>\n",
       "      <td>Caminhão-trator</td>\n",
       "      <td>1106</td>\n",
       "      <td>9</td>\n",
       "      <td>0.813743</td>\n",
       "    </tr>\n",
       "    <tr>\n",
       "      <th>2</th>\n",
       "      <td>Semireboque</td>\n",
       "      <td>1199</td>\n",
       "      <td>0</td>\n",
       "      <td>0.000000</td>\n",
       "    </tr>\n",
       "    <tr>\n",
       "      <th>3</th>\n",
       "      <td>Automóvel</td>\n",
       "      <td>8105</td>\n",
       "      <td>139</td>\n",
       "      <td>1.714991</td>\n",
       "    </tr>\n",
       "    <tr>\n",
       "      <th>4</th>\n",
       "      <td>Motocicleta</td>\n",
       "      <td>3552</td>\n",
       "      <td>89</td>\n",
       "      <td>2.505631</td>\n",
       "    </tr>\n",
       "    <tr>\n",
       "      <th>5</th>\n",
       "      <td>Camioneta</td>\n",
       "      <td>713</td>\n",
       "      <td>3</td>\n",
       "      <td>0.420757</td>\n",
       "    </tr>\n",
       "    <tr>\n",
       "      <th>6</th>\n",
       "      <td>Utilitário</td>\n",
       "      <td>320</td>\n",
       "      <td>1</td>\n",
       "      <td>0.312500</td>\n",
       "    </tr>\n",
       "    <tr>\n",
       "      <th>7</th>\n",
       "      <td>Caminhonete</td>\n",
       "      <td>1344</td>\n",
       "      <td>17</td>\n",
       "      <td>1.264881</td>\n",
       "    </tr>\n",
       "    <tr>\n",
       "      <th>8</th>\n",
       "      <td>Motoneta</td>\n",
       "      <td>789</td>\n",
       "      <td>13</td>\n",
       "      <td>1.647655</td>\n",
       "    </tr>\n",
       "    <tr>\n",
       "      <th>9</th>\n",
       "      <td>Ônibus</td>\n",
       "      <td>366</td>\n",
       "      <td>1</td>\n",
       "      <td>0.273224</td>\n",
       "    </tr>\n",
       "  </tbody>\n",
       "</table>\n",
       "</div>"
      ],
      "text/plain": [
       "      tipo_veiculo  numero_acidentes  acidentes_fatais  \\\n",
       "0         Caminhão              1106                19   \n",
       "1  Caminhão-trator              1106                 9   \n",
       "2      Semireboque              1199                 0   \n",
       "3        Automóvel              8105               139   \n",
       "4      Motocicleta              3552                89   \n",
       "5        Camioneta               713                 3   \n",
       "6       Utilitário               320                 1   \n",
       "7      Caminhonete              1344                17   \n",
       "8         Motoneta               789                13   \n",
       "9           Ônibus               366                 1   \n",
       "\n",
       "   porcentagem_acidentes_fatais  \n",
       "0                      1.717902  \n",
       "1                      0.813743  \n",
       "2                      0.000000  \n",
       "3                      1.714991  \n",
       "4                      2.505631  \n",
       "5                      0.420757  \n",
       "6                      0.312500  \n",
       "7                      1.264881  \n",
       "8                      1.647655  \n",
       "9                      0.273224  "
      ]
     },
     "execution_count": 573,
     "metadata": {},
     "output_type": "execute_result"
    }
   ],
   "source": [
    "veiculo = acidentes_sc_colunas_selecionadas['tipo_veiculo'].value_counts().keys().tolist()[0:10]\n",
    "data = acidentes_sc_colunas_selecionadas.loc[acidentes_sc_colunas_selecionadas['tipo_veiculo'].isin(veiculo)]\n",
    "mortes_por_veiculo_df = make_number_of_accidents_df(data)\n",
    "mortes_por_veiculo_df['porcentagem_acidentes_fatais'] = (mortes_por_veiculo_df['acidentes_fatais']/mortes_por_veiculo_df['numero_acidentes'])*100\n",
    "mortes_por_veiculo_df"
   ]
  },
  {
   "cell_type": "markdown",
   "id": "0a48eb50-7d10-439f-8d7a-edcb5f2336cf",
   "metadata": {},
   "source": [
    "Vemos que o tipo de veículo com maior taxa de acidentes fatais é a motocicleta, com 2.5%. "
   ]
  },
  {
   "cell_type": "markdown",
   "id": "50147437",
   "metadata": {},
   "source": [
    "# 5. Testes de Hipóteses"
   ]
  },
  {
   "cell_type": "markdown",
   "id": "aeb6a7e6",
   "metadata": {},
   "source": [
    "Vamos, primeiro, preparar novas tabelas."
   ]
  },
  {
   "cell_type": "markdown",
   "id": "c24c512f",
   "metadata": {},
   "source": [
    "## 5.1 Número de acidentes por dia do ano"
   ]
  },
  {
   "cell_type": "code",
   "execution_count": 574,
   "id": "4b34f5b3",
   "metadata": {},
   "outputs": [],
   "source": [
    "acidentes_sc_dia_horario = acidentes_sc_1[['data_inversa', 'dia_semana']]\n",
    "acidentes_sc_dia_horario['data_inversa'] = pd.to_datetime(acidentes_sc_dia_horario['data_inversa'])"
   ]
  },
  {
   "cell_type": "code",
   "execution_count": 575,
   "id": "fcc6a61c",
   "metadata": {},
   "outputs": [],
   "source": [
    "n_acidentes_por_dia = []\n",
    "\n",
    "for data in acidentes_sc_dia_horario['data_inversa'].unique():\n",
    "    data_df = acidentes_sc_dia_horario.loc[acidentes_sc_dia_horario['data_inversa'] == data]\n",
    "    n_acidentes = data_df.shape[0]\n",
    "\n",
    "    n_acidentes_por_dia.append(n_acidentes)"
   ]
  },
  {
   "cell_type": "code",
   "execution_count": 576,
   "id": "e37f0794",
   "metadata": {},
   "outputs": [],
   "source": [
    "n_acidentes_dict = dict(zip(acidentes_sc_dia_horario['data_inversa'].unique(), n_acidentes_por_dia))\n",
    "acidentes_sc_dia_horario['numero_acidentes'] = acidentes_sc_dia_horario['data_inversa'].map(n_acidentes_dict)"
   ]
  },
  {
   "cell_type": "code",
   "execution_count": 577,
   "id": "80725a76",
   "metadata": {},
   "outputs": [
    {
     "data": {
      "text/html": [
       "<div>\n",
       "<style scoped>\n",
       "    .dataframe tbody tr th:only-of-type {\n",
       "        vertical-align: middle;\n",
       "    }\n",
       "\n",
       "    .dataframe tbody tr th {\n",
       "        vertical-align: top;\n",
       "    }\n",
       "\n",
       "    .dataframe thead th {\n",
       "        text-align: right;\n",
       "    }\n",
       "</style>\n",
       "<table border=\"1\" class=\"dataframe\">\n",
       "  <thead>\n",
       "    <tr style=\"text-align: right;\">\n",
       "      <th></th>\n",
       "      <th>data_inversa</th>\n",
       "      <th>dia_semana</th>\n",
       "      <th>numero_acidentes</th>\n",
       "      <th>final_de_semana</th>\n",
       "    </tr>\n",
       "  </thead>\n",
       "  <tbody>\n",
       "    <tr>\n",
       "      <th>0</th>\n",
       "      <td>2023-01-02</td>\n",
       "      <td>segunda-feira</td>\n",
       "      <td>81</td>\n",
       "      <td>0</td>\n",
       "    </tr>\n",
       "    <tr>\n",
       "      <th>1</th>\n",
       "      <td>2023-01-03</td>\n",
       "      <td>terça-feira</td>\n",
       "      <td>66</td>\n",
       "      <td>0</td>\n",
       "    </tr>\n",
       "    <tr>\n",
       "      <th>2</th>\n",
       "      <td>2023-01-04</td>\n",
       "      <td>quarta-feira</td>\n",
       "      <td>78</td>\n",
       "      <td>0</td>\n",
       "    </tr>\n",
       "    <tr>\n",
       "      <th>3</th>\n",
       "      <td>2023-01-05</td>\n",
       "      <td>quinta-feira</td>\n",
       "      <td>40</td>\n",
       "      <td>0</td>\n",
       "    </tr>\n",
       "    <tr>\n",
       "      <th>4</th>\n",
       "      <td>2023-01-06</td>\n",
       "      <td>sexta-feira</td>\n",
       "      <td>55</td>\n",
       "      <td>1</td>\n",
       "    </tr>\n",
       "    <tr>\n",
       "      <th>...</th>\n",
       "      <td>...</td>\n",
       "      <td>...</td>\n",
       "      <td>...</td>\n",
       "      <td>...</td>\n",
       "    </tr>\n",
       "    <tr>\n",
       "      <th>360</th>\n",
       "      <td>2023-02-08</td>\n",
       "      <td>quarta-feira</td>\n",
       "      <td>29</td>\n",
       "      <td>0</td>\n",
       "    </tr>\n",
       "    <tr>\n",
       "      <th>361</th>\n",
       "      <td>2023-03-12</td>\n",
       "      <td>domingo</td>\n",
       "      <td>53</td>\n",
       "      <td>1</td>\n",
       "    </tr>\n",
       "    <tr>\n",
       "      <th>362</th>\n",
       "      <td>2023-04-18</td>\n",
       "      <td>terça-feira</td>\n",
       "      <td>17</td>\n",
       "      <td>0</td>\n",
       "    </tr>\n",
       "    <tr>\n",
       "      <th>363</th>\n",
       "      <td>2023-06-20</td>\n",
       "      <td>terça-feira</td>\n",
       "      <td>19</td>\n",
       "      <td>0</td>\n",
       "    </tr>\n",
       "    <tr>\n",
       "      <th>364</th>\n",
       "      <td>2023-12-25</td>\n",
       "      <td>segunda-feira</td>\n",
       "      <td>49</td>\n",
       "      <td>0</td>\n",
       "    </tr>\n",
       "  </tbody>\n",
       "</table>\n",
       "<p>365 rows × 4 columns</p>\n",
       "</div>"
      ],
      "text/plain": [
       "    data_inversa     dia_semana  numero_acidentes  final_de_semana\n",
       "0     2023-01-02  segunda-feira                81                0\n",
       "1     2023-01-03    terça-feira                66                0\n",
       "2     2023-01-04   quarta-feira                78                0\n",
       "3     2023-01-05   quinta-feira                40                0\n",
       "4     2023-01-06    sexta-feira                55                1\n",
       "..           ...            ...               ...              ...\n",
       "360   2023-02-08   quarta-feira                29                0\n",
       "361   2023-03-12        domingo                53                1\n",
       "362   2023-04-18    terça-feira                17                0\n",
       "363   2023-06-20    terça-feira                19                0\n",
       "364   2023-12-25  segunda-feira                49                0\n",
       "\n",
       "[365 rows x 4 columns]"
      ]
     },
     "execution_count": 577,
     "metadata": {},
     "output_type": "execute_result"
    }
   ],
   "source": [
    "n_acidentes_por_dia_df = acidentes_sc_dia_horario.drop_duplicates().reset_index(drop=True)\n",
    "n_acidentes_por_dia_df['final_de_semana'] = n_acidentes_por_dia_df['dia_semana'].apply(\n",
    "    lambda dia: 1 if dia in [\"sexta-feira\", \"sábado\", \"domingo\"] else 0\n",
    ")\n",
    "\n",
    "n_acidentes_por_dia_df"
   ]
  },
  {
   "cell_type": "markdown",
   "id": "021fbf05",
   "metadata": {},
   "source": [
    "### 5.1.1 Métricas descritivas e histogramas"
   ]
  },
  {
   "cell_type": "code",
   "execution_count": 578,
   "id": "9bca3089",
   "metadata": {},
   "outputs": [
    {
     "name": "stdout",
     "output_type": "stream",
     "text": [
      "A média de número de acidentes por dia é: 53.93424657534246\n",
      "A mediana é: 53.0\n",
      "Com desvio padrão igual a: 17.52191891977991\n"
     ]
    }
   ],
   "source": [
    "media = n_acidentes_por_dia_df['numero_acidentes'].mean()\n",
    "mediana = n_acidentes_por_dia_df['numero_acidentes'].median()\n",
    "desvio_padrao = n_acidentes_por_dia_df['numero_acidentes'].std()\n",
    "\n",
    "print(f\"A média de número de acidentes por dia é: {media}\")\n",
    "print(f\"A mediana é: {mediana}\")\n",
    "print(f\"Com desvio padrão igual a: {desvio_padrao}\")"
   ]
  },
  {
   "cell_type": "code",
   "execution_count": 579,
   "id": "eb1f1c01",
   "metadata": {},
   "outputs": [
    {
     "data": {
      "text/plain": [
       "<Axes: xlabel='numero_acidentes', ylabel='Count'>"
      ]
     },
     "execution_count": 579,
     "metadata": {},
     "output_type": "execute_result"
    },
    {
     "data": {
      "image/png": "[encoded data removed]",
      "text/plain": [
       "<Figure size 1000x600 with 1 Axes>"
      ]
     },
     "metadata": {},
     "output_type": "display_data"
    }
   ],
   "source": [
    "fig, ax = plt.subplots(1, 1, figsize = (10, 6))\n",
    "\n",
    "sns.histplot(data=n_acidentes_por_dia_df,\n",
    "                x='numero_acidentes',\n",
    "                ax=ax)"
   ]
  },
  {
   "cell_type": "markdown",
   "id": "9bb6b7b3",
   "metadata": {},
   "source": [
    "## 5.2 Número de acidentes por horário no ano"
   ]
  },
  {
   "cell_type": "code",
   "execution_count": 580,
   "id": "5a964503",
   "metadata": {},
   "outputs": [],
   "source": [
    "n_acidentes_por_hora_df = pd.concat([acidentes_sc_dia_horario, acidentes_sc_colunas_selecionadas['hora']], axis=1)\n",
    "n_acidentes_por_hora_df.drop(['numero_acidentes', 'dia_semana'], axis=1, inplace=True)\n"
   ]
  },
  {
   "cell_type": "code",
   "execution_count": 581,
   "id": "733e0371",
   "metadata": {},
   "outputs": [],
   "source": [
    "n_acidentes_por_hora_df['numero_acidentes_por_dia_por_hora'] = 0\n",
    "n_acidentes_por_hora_df['hora'] = pd.to_numeric(n_acidentes_por_hora_df['hora'], errors='coerce')\n",
    "\n",
    "for data in n_acidentes_por_hora_df['data_inversa'].unique():\n",
    "    data_df = n_acidentes_por_hora_df.loc[n_acidentes_por_hora_df['data_inversa'] == data]\n",
    "\n",
    "    for hora in range(24):        \n",
    "        hora_df = data_df.loc[data_df['hora'] == hora]                \n",
    "        n_acidentes = hora_df.shape[0]\n",
    "\n",
    "        n_acidentes_por_hora_df['numero_acidentes_por_dia_por_hora'].loc[hora_df.index] = n_acidentes"
   ]
  },
  {
   "cell_type": "code",
   "execution_count": 582,
   "id": "2a542a4a",
   "metadata": {},
   "outputs": [
    {
     "data": {
      "text/html": [
       "<div>\n",
       "<style scoped>\n",
       "    .dataframe tbody tr th:only-of-type {\n",
       "        vertical-align: middle;\n",
       "    }\n",
       "\n",
       "    .dataframe tbody tr th {\n",
       "        vertical-align: top;\n",
       "    }\n",
       "\n",
       "    .dataframe thead th {\n",
       "        text-align: right;\n",
       "    }\n",
       "</style>\n",
       "<table border=\"1\" class=\"dataframe\">\n",
       "  <thead>\n",
       "    <tr style=\"text-align: right;\">\n",
       "      <th></th>\n",
       "      <th>data_inversa</th>\n",
       "      <th>hora</th>\n",
       "      <th>numero_acidentes_por_dia_por_hora</th>\n",
       "      <th>horario_de_pico</th>\n",
       "    </tr>\n",
       "  </thead>\n",
       "  <tbody>\n",
       "    <tr>\n",
       "      <th>0</th>\n",
       "      <td>2023-01-02</td>\n",
       "      <td>7</td>\n",
       "      <td>4</td>\n",
       "      <td>1</td>\n",
       "    </tr>\n",
       "    <tr>\n",
       "      <th>1</th>\n",
       "      <td>2023-01-02</td>\n",
       "      <td>17</td>\n",
       "      <td>14</td>\n",
       "      <td>1</td>\n",
       "    </tr>\n",
       "    <tr>\n",
       "      <th>2</th>\n",
       "      <td>2023-01-02</td>\n",
       "      <td>22</td>\n",
       "      <td>2</td>\n",
       "      <td>0</td>\n",
       "    </tr>\n",
       "    <tr>\n",
       "      <th>3</th>\n",
       "      <td>2023-01-03</td>\n",
       "      <td>6</td>\n",
       "      <td>10</td>\n",
       "      <td>0</td>\n",
       "    </tr>\n",
       "    <tr>\n",
       "      <th>4</th>\n",
       "      <td>2023-01-02</td>\n",
       "      <td>4</td>\n",
       "      <td>2</td>\n",
       "      <td>0</td>\n",
       "    </tr>\n",
       "    <tr>\n",
       "      <th>...</th>\n",
       "      <td>...</td>\n",
       "      <td>...</td>\n",
       "      <td>...</td>\n",
       "      <td>...</td>\n",
       "    </tr>\n",
       "    <tr>\n",
       "      <th>4836</th>\n",
       "      <td>2023-09-12</td>\n",
       "      <td>22</td>\n",
       "      <td>2</td>\n",
       "      <td>0</td>\n",
       "    </tr>\n",
       "    <tr>\n",
       "      <th>4837</th>\n",
       "      <td>2023-06-11</td>\n",
       "      <td>13</td>\n",
       "      <td>7</td>\n",
       "      <td>1</td>\n",
       "    </tr>\n",
       "    <tr>\n",
       "      <th>4838</th>\n",
       "      <td>2023-06-01</td>\n",
       "      <td>5</td>\n",
       "      <td>2</td>\n",
       "      <td>0</td>\n",
       "    </tr>\n",
       "    <tr>\n",
       "      <th>4839</th>\n",
       "      <td>2023-12-26</td>\n",
       "      <td>18</td>\n",
       "      <td>2</td>\n",
       "      <td>1</td>\n",
       "    </tr>\n",
       "    <tr>\n",
       "      <th>4840</th>\n",
       "      <td>2023-09-24</td>\n",
       "      <td>5</td>\n",
       "      <td>3</td>\n",
       "      <td>0</td>\n",
       "    </tr>\n",
       "  </tbody>\n",
       "</table>\n",
       "<p>4841 rows × 4 columns</p>\n",
       "</div>"
      ],
      "text/plain": [
       "     data_inversa  hora  numero_acidentes_por_dia_por_hora  horario_de_pico\n",
       "0      2023-01-02     7                                  4                1\n",
       "1      2023-01-02    17                                 14                1\n",
       "2      2023-01-02    22                                  2                0\n",
       "3      2023-01-03     6                                 10                0\n",
       "4      2023-01-02     4                                  2                0\n",
       "...           ...   ...                                ...              ...\n",
       "4836   2023-09-12    22                                  2                0\n",
       "4837   2023-06-11    13                                  7                1\n",
       "4838   2023-06-01     5                                  2                0\n",
       "4839   2023-12-26    18                                  2                1\n",
       "4840   2023-09-24     5                                  3                0\n",
       "\n",
       "[4841 rows x 4 columns]"
      ]
     },
     "execution_count": 582,
     "metadata": {},
     "output_type": "execute_result"
    }
   ],
   "source": [
    "n_acidentes_por_hora_df_1 = n_acidentes_por_hora_df.drop_duplicates().reset_index(drop=True)\n",
    "n_acidentes_por_hora_df_1['horario_de_pico'] = n_acidentes_por_hora_df_1['hora'].apply(\n",
    "    lambda hora: 1 if hora in range(7,20) else 0\n",
    ")\n",
    "\n",
    "n_acidentes_por_hora_df_1"
   ]
  },
  {
   "cell_type": "code",
   "execution_count": 583,
   "id": "5c3b3641",
   "metadata": {},
   "outputs": [],
   "source": [
    "dates = pd.date_range(start='2023-01-01', end='2023-12-31', freq='D')\n",
    "data = []\n",
    "\n",
    "for date in dates:\n",
    "    for hour in range(24):\n",
    "        data.append([date.strftime('%Y-%m-%d'), hour])\n",
    "\n",
    "n_acidentes_por_hora_df_2 = pd.DataFrame(data, columns=['data_inversa', 'hora'])\n",
    "n_acidentes_por_hora_df_2['numero_acidentes_por_dia_por_hora'] = 0\n",
    "n_acidentes_por_hora_df_2['horario_de_pico'] = 0"
   ]
  },
  {
   "cell_type": "code",
   "execution_count": 584,
   "id": "fa5d02be",
   "metadata": {},
   "outputs": [],
   "source": [
    "for data in n_acidentes_por_hora_df_2['data_inversa'].unique():\n",
    "    data_df = n_acidentes_por_hora_df_1.loc[n_acidentes_por_hora_df_1['data_inversa'] == data]    \n",
    "\n",
    "    for hora in data_df['hora'].unique():\n",
    "        n_acidentes = data_df.loc[data_df['hora'] == hora]['numero_acidentes_por_dia_por_hora'].values[0]\n",
    "        horario_de_pico = data_df.loc[data_df['hora'] == hora]['horario_de_pico'].values[0]\n",
    "\n",
    "        n_acidentes_por_hora_df_2.loc[(n_acidentes_por_hora_df_2['data_inversa'] == data) & (n_acidentes_por_hora_df_2['hora'] == hora),\n",
    "                                       'numero_acidentes_por_dia_por_hora'] = n_acidentes\n",
    "        n_acidentes_por_hora_df_2.loc[(n_acidentes_por_hora_df_2['data_inversa'] == data) & (n_acidentes_por_hora_df_2['hora'] == hora),\n",
    "                                       'horario_de_pico'] = horario_de_pico             "
   ]
  },
  {
   "cell_type": "code",
   "execution_count": 585,
   "id": "04d69242",
   "metadata": {},
   "outputs": [
    {
     "data": {
      "text/html": [
       "<div>\n",
       "<style scoped>\n",
       "    .dataframe tbody tr th:only-of-type {\n",
       "        vertical-align: middle;\n",
       "    }\n",
       "\n",
       "    .dataframe tbody tr th {\n",
       "        vertical-align: top;\n",
       "    }\n",
       "\n",
       "    .dataframe thead th {\n",
       "        text-align: right;\n",
       "    }\n",
       "</style>\n",
       "<table border=\"1\" class=\"dataframe\">\n",
       "  <thead>\n",
       "    <tr style=\"text-align: right;\">\n",
       "      <th></th>\n",
       "      <th>data_inversa</th>\n",
       "      <th>hora</th>\n",
       "      <th>numero_acidentes_por_dia_por_hora</th>\n",
       "      <th>horario_de_pico</th>\n",
       "    </tr>\n",
       "  </thead>\n",
       "  <tbody>\n",
       "    <tr>\n",
       "      <th>0</th>\n",
       "      <td>2023-01-01</td>\n",
       "      <td>0</td>\n",
       "      <td>0</td>\n",
       "      <td>0</td>\n",
       "    </tr>\n",
       "    <tr>\n",
       "      <th>1</th>\n",
       "      <td>2023-01-01</td>\n",
       "      <td>1</td>\n",
       "      <td>0</td>\n",
       "      <td>0</td>\n",
       "    </tr>\n",
       "    <tr>\n",
       "      <th>2</th>\n",
       "      <td>2023-01-01</td>\n",
       "      <td>2</td>\n",
       "      <td>1</td>\n",
       "      <td>0</td>\n",
       "    </tr>\n",
       "    <tr>\n",
       "      <th>3</th>\n",
       "      <td>2023-01-01</td>\n",
       "      <td>3</td>\n",
       "      <td>7</td>\n",
       "      <td>0</td>\n",
       "    </tr>\n",
       "    <tr>\n",
       "      <th>4</th>\n",
       "      <td>2023-01-01</td>\n",
       "      <td>4</td>\n",
       "      <td>0</td>\n",
       "      <td>0</td>\n",
       "    </tr>\n",
       "    <tr>\n",
       "      <th>...</th>\n",
       "      <td>...</td>\n",
       "      <td>...</td>\n",
       "      <td>...</td>\n",
       "      <td>...</td>\n",
       "    </tr>\n",
       "    <tr>\n",
       "      <th>8755</th>\n",
       "      <td>2023-12-31</td>\n",
       "      <td>19</td>\n",
       "      <td>1</td>\n",
       "      <td>1</td>\n",
       "    </tr>\n",
       "    <tr>\n",
       "      <th>8756</th>\n",
       "      <td>2023-12-31</td>\n",
       "      <td>20</td>\n",
       "      <td>1</td>\n",
       "      <td>0</td>\n",
       "    </tr>\n",
       "    <tr>\n",
       "      <th>8757</th>\n",
       "      <td>2023-12-31</td>\n",
       "      <td>21</td>\n",
       "      <td>2</td>\n",
       "      <td>0</td>\n",
       "    </tr>\n",
       "    <tr>\n",
       "      <th>8758</th>\n",
       "      <td>2023-12-31</td>\n",
       "      <td>22</td>\n",
       "      <td>1</td>\n",
       "      <td>0</td>\n",
       "    </tr>\n",
       "    <tr>\n",
       "      <th>8759</th>\n",
       "      <td>2023-12-31</td>\n",
       "      <td>23</td>\n",
       "      <td>6</td>\n",
       "      <td>0</td>\n",
       "    </tr>\n",
       "  </tbody>\n",
       "</table>\n",
       "<p>8760 rows × 4 columns</p>\n",
       "</div>"
      ],
      "text/plain": [
       "     data_inversa  hora  numero_acidentes_por_dia_por_hora  horario_de_pico\n",
       "0      2023-01-01     0                                  0                0\n",
       "1      2023-01-01     1                                  0                0\n",
       "2      2023-01-01     2                                  1                0\n",
       "3      2023-01-01     3                                  7                0\n",
       "4      2023-01-01     4                                  0                0\n",
       "...           ...   ...                                ...              ...\n",
       "8755   2023-12-31    19                                  1                1\n",
       "8756   2023-12-31    20                                  1                0\n",
       "8757   2023-12-31    21                                  2                0\n",
       "8758   2023-12-31    22                                  1                0\n",
       "8759   2023-12-31    23                                  6                0\n",
       "\n",
       "[8760 rows x 4 columns]"
      ]
     },
     "execution_count": 585,
     "metadata": {},
     "output_type": "execute_result"
    }
   ],
   "source": [
    "n_acidentes_por_hora_df_2"
   ]
  },
  {
   "cell_type": "markdown",
   "id": "7e76f8e4",
   "metadata": {},
   "source": [
    "### 5.2.1 Métricas descritivas e histogramas"
   ]
  },
  {
   "cell_type": "code",
   "execution_count": 586,
   "id": "7231e1f1",
   "metadata": {},
   "outputs": [
    {
     "name": "stdout",
     "output_type": "stream",
     "text": [
      "A média de número de acidentes por hora é: 2.2472602739726026\n",
      "A mediana é: 1.0\n",
      "Com desvio padrão igual a: 3.121624730405773\n"
     ]
    }
   ],
   "source": [
    "media = n_acidentes_por_hora_df_2['numero_acidentes_por_dia_por_hora'].mean()\n",
    "mediana = n_acidentes_por_hora_df_2['numero_acidentes_por_dia_por_hora'].median()\n",
    "desvio_padrao = n_acidentes_por_hora_df_2['numero_acidentes_por_dia_por_hora'].std()\n",
    "\n",
    "print(f\"A média de número de acidentes por hora é: {media}\")\n",
    "print(f\"A mediana é: {mediana}\")\n",
    "print(f\"Com desvio padrão igual a: {desvio_padrao}\")"
   ]
  },
  {
   "cell_type": "code",
   "execution_count": 587,
   "id": "f98aa5ac",
   "metadata": {},
   "outputs": [
    {
     "data": {
      "text/plain": [
       "<Axes: xlabel='numero_acidentes_por_dia_por_hora', ylabel='Count'>"
      ]
     },
     "execution_count": 587,
     "metadata": {},
     "output_type": "execute_result"
    },
    {
     "data": {
      "image/png": "[encoded data removed]",
      "text/plain": [
       "<Figure size 1000x600 with 1 Axes>"
      ]
     },
     "metadata": {},
     "output_type": "display_data"
    }
   ],
   "source": [
    "fig, ax = plt.subplots(1, 1, figsize = (10, 6))\n",
    "\n",
    "sns.histplot(data=n_acidentes_por_hora_df_2,\n",
    "                x='numero_acidentes_por_dia_por_hora',\n",
    "                ax=ax)"
   ]
  },
  {
   "cell_type": "markdown",
   "id": "89d1388e",
   "metadata": {},
   "source": [
    "## 5.3 Hipóteses"
   ]
  },
  {
   "cell_type": "markdown",
   "id": "5ae82883",
   "metadata": {},
   "source": [
    "### 5.3.1 Sobre média"
   ]
  },
  {
   "cell_type": "markdown",
   "id": "b7b477a7",
   "metadata": {},
   "source": [
    "#### 5.3.1.1 Sobre dias da semana"
   ]
  },
  {
   "cell_type": "markdown",
   "id": "f4586214",
   "metadata": {},
   "source": [
    "Vamos primeiro considerar algumas hipóteses sobre médias de número de acidentes por dia entre diferentes dias da semana. As hipóteses serão as seguintes:\n",
    "- H_0: A média do número de acidentes é a mesma entre todos os dias (hipótese nula do ANOVA).\n",
    "- H_1: A média do número de acidentes diferente entre os diferentes dias da semana."
   ]
  },
  {
   "cell_type": "code",
   "execution_count": 588,
   "id": "f16806da",
   "metadata": {},
   "outputs": [
    {
     "name": "stdout",
     "output_type": "stream",
     "text": [
      "A estatística F é igual a: 12.628068997721074\n",
      "O p-valor é igual a: 6.238235947294736e-13\n",
      "Os graus de liberdade são: (6.0, 358.0)\n"
     ]
    }
   ],
   "source": [
    "f_statistic, p_value, class_degf, res_degf = get_anova_table(n_acidentes_por_dia_df, 'numero_acidentes', 'dia_semana')\n",
    "\n",
    "print(f\"A estatística F é igual a: {f_statistic}\")\n",
    "print(f\"O p-valor é igual a: {p_value}\")\n",
    "print(f\"Os graus de liberdade são: ({class_degf}, {res_degf})\")"
   ]
  },
  {
   "cell_type": "markdown",
   "id": "fb3fed30",
   "metadata": {},
   "source": [
    "Dados os valores acima, concluímos que há uma diferença considerável entre as médias dos diferentes grupos (dias de semana). Além disto, tal p-valor nos diz que há forte evidência estatística para descartar a hipótese nula. Ou seja, temos base para afirmar que a diferença de número de acidentes entre diferentes dias da semanas é bastante significativa."
   ]
  },
  {
   "cell_type": "markdown",
   "id": "2acb910b",
   "metadata": {},
   "source": [
    "Agora, separaremos sexta, sábado e domingo em um grupo 'fim de semana', e testaremos as seguintes hipóteses utilizando ANOVA:\n",
    "\n",
    "- H_0: A média do número de acidentes nos finais de semana é igual à média dos demais dias (hipótese nula do ANOVA).\n",
    "- H_1: A média do número de acidentes nos finais de semana é diferente dos demais dias."
   ]
  },
  {
   "cell_type": "code",
   "execution_count": 589,
   "id": "3fc8944b",
   "metadata": {},
   "outputs": [
    {
     "name": "stdout",
     "output_type": "stream",
     "text": [
      "A estatística F é igual a: 68.5598983260684\n",
      "O p-valor é igual a: 2.3888105153594746e-15\n",
      "Os graus de liberdade são: (1.0, 363.0)\n"
     ]
    }
   ],
   "source": [
    "f_statistic, p_value, class_degf, res_degf = get_anova_table(n_acidentes_por_dia_df, 'numero_acidentes', 'final_de_semana')\n",
    "\n",
    "print(f\"A estatística F é igual a: {f_statistic}\")\n",
    "print(f\"O p-valor é igual a: {p_value}\")\n",
    "print(f\"Os graus de liberdade são: ({class_degf}, {res_degf})\")"
   ]
  },
  {
   "cell_type": "markdown",
   "id": "48259e68",
   "metadata": {},
   "source": [
    "Vemos que o valor da estatística F é ainda superior ao das hipóteses anteriores, e o p-valor menor. Portanto temos evidências estatísticas robustas para dizer que a diferença do número de acidentes entre finais de semana e dias de semana é bastante significativa."
   ]
  },
  {
   "cell_type": "markdown",
   "id": "4e602ef4",
   "metadata": {},
   "source": [
    "Note que as hipóteses alternativas tomadas acima só dizem respeito ao fato das médias serem diferentes entre os grupos, mas não dizem nada sobre de que modo elas diferem (qual é maior ou menor). Verificaremos isso através das visualizações a seguir."
   ]
  },
  {
   "cell_type": "code",
   "execution_count": 590,
   "id": "b9ae3042",
   "metadata": {},
   "outputs": [
    {
     "data": {
      "text/plain": [
       "<Axes: xlabel=' ', ylabel='numero_acidentes'>"
      ]
     },
     "execution_count": 590,
     "metadata": {},
     "output_type": "execute_result"
    },
    {
     "data": {
      "image/png": "[encoded data removed]",
      "text/plain": [
       "<Figure size 1700x600 with 2 Axes>"
      ]
     },
     "metadata": {},
     "output_type": "display_data"
    }
   ],
   "source": [
    "fig, (ax0, ax1) = plt.subplots(1, 2, figsize = (17,6))\n",
    "ax0.set_xlabel(' ')\n",
    "ax1.set_xlabel(' ')\n",
    "\n",
    "sns.boxplot(data=n_acidentes_por_dia_df,\n",
    "             x='dia_semana',\n",
    "             y='numero_acidentes',\n",
    "             hue='dia_semana',\n",
    "             palette='magma',\n",
    "             ax=ax0)\n",
    "\n",
    "sns.boxplot(data=n_acidentes_por_dia_df,\n",
    "             x='final_de_semana',\n",
    "             y='numero_acidentes',\n",
    "             hue='final_de_semana',\n",
    "             palette='magma',\n",
    "             ax=ax1)"
   ]
  },
  {
   "cell_type": "markdown",
   "id": "04361b80",
   "metadata": {},
   "source": [
    "#### 5.3.1.2 Sobre horários de tráfego"
   ]
  },
  {
   "cell_type": "markdown",
   "id": "3d6e7fa7",
   "metadata": {},
   "source": [
    "Neste ponto, vamos considerar as seguintes hipóteses sobre os diferentes intervalos de hora (00h-01h, 01h-02h, ...):\n",
    "\n",
    "- H_0: A média do número de acidentes é a mesma entre todos os horários (hipótese nula do ANOVA).\n",
    "- H_1: A média do número de acidentes diferente entre os diferentes intervalos de hora."
   ]
  },
  {
   "cell_type": "code",
   "execution_count": 591,
   "id": "c0150d35",
   "metadata": {},
   "outputs": [
    {
     "name": "stdout",
     "output_type": "stream",
     "text": [
      "A estatística F é igual a: 197.7188208600683\n",
      "O p-valor é igual a: 1.9950281467004122e-44\n",
      "Os graus de liberdade são: (1.0, 8758.0)\n"
     ]
    }
   ],
   "source": [
    "f_statistic, p_value, class_degf, res_degf = get_anova_table(n_acidentes_por_hora_df_2, 'numero_acidentes_por_dia_por_hora', 'hora')\n",
    "\n",
    "print(f\"A estatística F é igual a: {f_statistic}\")\n",
    "print(f\"O p-valor é igual a: {p_value}\")\n",
    "print(f\"Os graus de liberdade são: ({class_degf}, {res_degf})\")"
   ]
  },
  {
   "cell_type": "markdown",
   "id": "fe72a35a",
   "metadata": {},
   "source": [
    "Dados os valores acima, podemos descartar a hipótese nula com bastante evidência estatística."
   ]
  },
  {
   "cell_type": "markdown",
   "id": "09de99b9",
   "metadata": {},
   "source": [
    "Agora, vamos considerar as seguintes hipóteses sobre intervalos de hora específicos considerados como horário de pico em SC, a saber, 08h às 20h. \n",
    "\n",
    "- H_0: A média do número de acidentes é a mesma entre os intervalos definidos e os demais (hipótese nula do ANOVA).\n",
    "- H_1: A média do número de acidentes diferente entre os intervalos definidos e os demais."
   ]
  },
  {
   "cell_type": "code",
   "execution_count": 592,
   "id": "7a27cf5c",
   "metadata": {},
   "outputs": [
    {
     "name": "stdout",
     "output_type": "stream",
     "text": [
      "A estatística F é igual a: 3271.6587225117287\n",
      "O p-valor é igual a: 0.0\n",
      "Os graus de liberdade são: (1.0, 8758.0)\n"
     ]
    }
   ],
   "source": [
    "f_statistic, p_value, class_degf, res_degf = get_anova_table(n_acidentes_por_hora_df_2, 'numero_acidentes_por_dia_por_hora', 'horario_de_pico')\n",
    "\n",
    "print(f\"A estatística F é igual a: {f_statistic}\")\n",
    "print(f\"O p-valor é igual a: {p_value}\")\n",
    "print(f\"Os graus de liberdade são: ({class_degf}, {res_degf})\")"
   ]
  },
  {
   "cell_type": "markdown",
   "id": "05d14d02",
   "metadata": {},
   "source": [
    "Mais uma vez, há evidência estatística para descartar a hipótese nula. Confirmamos isso nas seguintes visualizações."
   ]
  },
  {
   "cell_type": "code",
   "execution_count": 593,
   "id": "ab97f1fe",
   "metadata": {},
   "outputs": [
    {
     "data": {
      "text/plain": [
       "<Axes: xlabel=' ', ylabel='numero_acidentes_por_dia_por_hora'>"
      ]
     },
     "execution_count": 593,
     "metadata": {},
     "output_type": "execute_result"
    },
    {
     "data": {
      "image/png": "[encoded data removed]",
      "text/plain": [
       "<Figure size 1600x600 with 1 Axes>"
      ]
     },
     "metadata": {},
     "output_type": "display_data"
    }
   ],
   "source": [
    "fig, ax0 = plt.subplots(1, 1, figsize = (16,6))\n",
    "ax0.set_xlabel(' ')\n",
    "\n",
    "\n",
    "sns.boxplot(data=n_acidentes_por_hora_df_2.sort_values('hora'),\n",
    "             x='hora',\n",
    "             y='numero_acidentes_por_dia_por_hora',             \n",
    "             ax=ax0)"
   ]
  },
  {
   "cell_type": "code",
   "execution_count": 594,
   "id": "0a44d70f",
   "metadata": {},
   "outputs": [
    {
     "data": {
      "text/plain": [
       "<Axes: xlabel=' ', ylabel='numero_acidentes_por_dia_por_hora'>"
      ]
     },
     "execution_count": 594,
     "metadata": {},
     "output_type": "execute_result"
    },
    {
     "data": {
      "image/png": "[encoded data removed]",
      "text/plain": [
       "<Figure size 1000x600 with 1 Axes>"
      ]
     },
     "metadata": {},
     "output_type": "display_data"
    }
   ],
   "source": [
    "fig, ax1 = plt.subplots(1, 1, figsize = (10, 6))\n",
    "ax1.set_xlabel(' ')\n",
    "\n",
    "sns.boxplot(data=n_acidentes_por_hora_df_2,\n",
    "             x='horario_de_pico',\n",
    "             y='numero_acidentes_por_dia_por_hora',\n",
    "             hue='horario_de_pico',\n",
    "             palette='magma',             \n",
    "             ax=ax1)"
   ]
  },
  {
   "cell_type": "markdown",
   "id": "28ee92e7",
   "metadata": {},
   "source": [
    "### 5.3.2 Sobre proporções"
   ]
  },
  {
   "cell_type": "markdown",
   "id": "6c2ffeb7",
   "metadata": {},
   "source": [
    "Selecionaremos agora alguns períodos específicos do ano para teste de proporção. Dado um período, verificaremos se a distribuição de acidentes neste tem a mesma proporção que a proporção geral."
   ]
  },
  {
   "cell_type": "markdown",
   "id": "a5ee7cac",
   "metadata": {},
   "source": [
    "Selecionamos primeiro os dias entre 14/02/2023 e 21/02/2023, que engloba o feriado de Carnaval. As hipóteses serão as seguintes:\n",
    "\n",
    "- H_0 = a proporção de acidentes no final de semana, para esse período, é a mesma da proporção geral.\n",
    "- H_1 = a proporção de acidentes no final de semana, para esse período, é maior que a proporção geral."
   ]
  },
  {
   "cell_type": "code",
   "execution_count": 595,
   "id": "47ebcbe5",
   "metadata": {},
   "outputs": [
    {
     "data": {
      "text/html": [
       "<div>\n",
       "<style scoped>\n",
       "    .dataframe tbody tr th:only-of-type {\n",
       "        vertical-align: middle;\n",
       "    }\n",
       "\n",
       "    .dataframe tbody tr th {\n",
       "        vertical-align: top;\n",
       "    }\n",
       "\n",
       "    .dataframe thead th {\n",
       "        text-align: right;\n",
       "    }\n",
       "</style>\n",
       "<table border=\"1\" class=\"dataframe\">\n",
       "  <thead>\n",
       "    <tr style=\"text-align: right;\">\n",
       "      <th></th>\n",
       "      <th>data_inversa</th>\n",
       "      <th>dia_semana</th>\n",
       "      <th>numero_acidentes</th>\n",
       "      <th>final_de_semana</th>\n",
       "    </tr>\n",
       "  </thead>\n",
       "  <tbody>\n",
       "    <tr>\n",
       "      <th>43</th>\n",
       "      <td>2023-02-15</td>\n",
       "      <td>quarta-feira</td>\n",
       "      <td>50</td>\n",
       "      <td>0</td>\n",
       "    </tr>\n",
       "    <tr>\n",
       "      <th>44</th>\n",
       "      <td>2023-02-16</td>\n",
       "      <td>quinta-feira</td>\n",
       "      <td>53</td>\n",
       "      <td>0</td>\n",
       "    </tr>\n",
       "    <tr>\n",
       "      <th>45</th>\n",
       "      <td>2023-02-17</td>\n",
       "      <td>sexta-feira</td>\n",
       "      <td>49</td>\n",
       "      <td>1</td>\n",
       "    </tr>\n",
       "    <tr>\n",
       "      <th>46</th>\n",
       "      <td>2023-02-18</td>\n",
       "      <td>sábado</td>\n",
       "      <td>63</td>\n",
       "      <td>1</td>\n",
       "    </tr>\n",
       "    <tr>\n",
       "      <th>47</th>\n",
       "      <td>2023-02-19</td>\n",
       "      <td>domingo</td>\n",
       "      <td>82</td>\n",
       "      <td>1</td>\n",
       "    </tr>\n",
       "    <tr>\n",
       "      <th>48</th>\n",
       "      <td>2023-02-20</td>\n",
       "      <td>segunda-feira</td>\n",
       "      <td>63</td>\n",
       "      <td>0</td>\n",
       "    </tr>\n",
       "    <tr>\n",
       "      <th>49</th>\n",
       "      <td>2023-02-21</td>\n",
       "      <td>terça-feira</td>\n",
       "      <td>47</td>\n",
       "      <td>0</td>\n",
       "    </tr>\n",
       "  </tbody>\n",
       "</table>\n",
       "</div>"
      ],
      "text/plain": [
       "   data_inversa     dia_semana  numero_acidentes  final_de_semana\n",
       "43   2023-02-15   quarta-feira                50                0\n",
       "44   2023-02-16   quinta-feira                53                0\n",
       "45   2023-02-17    sexta-feira                49                1\n",
       "46   2023-02-18         sábado                63                1\n",
       "47   2023-02-19        domingo                82                1\n",
       "48   2023-02-20  segunda-feira                63                0\n",
       "49   2023-02-21    terça-feira                47                0"
      ]
     },
     "execution_count": 595,
     "metadata": {},
     "output_type": "execute_result"
    }
   ],
   "source": [
    "mask = (n_acidentes_por_dia_df['data_inversa'] > '2023-02-14') & (n_acidentes_por_dia_df['data_inversa'] <= '2023-02-21')\n",
    "semana_carnaval = n_acidentes_por_dia_df.loc[mask]\n",
    "semana_carnaval"
   ]
  },
  {
   "cell_type": "markdown",
   "id": "31a6289d",
   "metadata": {},
   "source": [
    "Tomamos aqui a proporção de acidentes no fim de semana em relação ao total para esse período específico."
   ]
  },
  {
   "cell_type": "code",
   "execution_count": 596,
   "id": "4c61b8e0",
   "metadata": {},
   "outputs": [
    {
     "name": "stdout",
     "output_type": "stream",
     "text": [
      "A proporção de acidentes no final de semana deste período é: 0.47665847665847666\n"
     ]
    }
   ],
   "source": [
    "finde_df = semana_carnaval.loc[semana_carnaval['final_de_semana'] == 1]\n",
    "n_acidentes_finde = np.sum(finde_df['numero_acidentes'])\n",
    "n_acidentes = np.sum(semana_carnaval['numero_acidentes'])\n",
    "\n",
    "proporcao_acidentes_finde_carnaval = n_acidentes_finde/n_acidentes\n",
    "print(f'A proporção de acidentes no final de semana deste período é: {proporcao_acidentes_finde_carnaval}')"
   ]
  },
  {
   "cell_type": "markdown",
   "id": "dce07074",
   "metadata": {},
   "source": [
    "Abaixo, tomamos a proporção de acidentes que ocorrem no fim de semana em relação ao número total de acidentes."
   ]
  },
  {
   "cell_type": "code",
   "execution_count": 597,
   "id": "74a3b6e4",
   "metadata": {},
   "outputs": [
    {
     "name": "stdout",
     "output_type": "stream",
     "text": [
      "A proporção de acidentes no final de semana é: 0.4941582850756883\n"
     ]
    }
   ],
   "source": [
    "finde_df = n_acidentes_por_dia_df.loc[n_acidentes_por_dia_df['final_de_semana'] == 1]\n",
    "n_acidentes_finde = np.sum(finde_df['numero_acidentes'])\n",
    "n_acidentes = np.sum(n_acidentes_por_dia_df['numero_acidentes'])\n",
    "\n",
    "proporcao_acidentes_finde = n_acidentes_finde/n_acidentes\n",
    "print(f'A proporção de acidentes no final de semana é: {proporcao_acidentes_finde}')"
   ]
  },
  {
   "cell_type": "code",
   "execution_count": 598,
   "id": "a62b1de3",
   "metadata": {},
   "outputs": [
    {
     "name": "stdout",
     "output_type": "stream",
     "text": [
      "A estatística Z é igual a: -0.7061389015085884\n",
      "O p-valor é igual a: 0.4801017617224814\n"
     ]
    }
   ],
   "source": [
    "total_acidentes_carnaval = np.sum(semana_carnaval['numero_acidentes'])\n",
    "\n",
    "z_statistic = (proporcao_acidentes_finde_carnaval - proporcao_acidentes_finde) / np.sqrt(\n",
    "        proporcao_acidentes_finde * (1 - proporcao_acidentes_finde) / total_acidentes_carnaval \n",
    "    )\n",
    "\n",
    "p_value = 2 * (1 - stats.norm.cdf(abs(z_statistic)))\n",
    "\n",
    "print(f\"A estatística Z é igual a: {z_statistic}\")\n",
    "print(f\"O p-valor é igual a: {p_value}\")"
   ]
  },
  {
   "cell_type": "markdown",
   "id": "5c46014b",
   "metadata": {},
   "source": [
    "Dos valores acima, não temos suporte estatístico para descartar a hipótese nula, ou seja, a hipótese de que a proporção de acidentes no final de semana de Carnaval é igual à dos demais."
   ]
  },
  {
   "cell_type": "markdown",
   "id": "0a6cbad8",
   "metadata": {},
   "source": [
    "### 5.3.3 Sobre regressão linear"
   ]
  },
  {
   "cell_type": "markdown",
   "id": "a4051726",
   "metadata": {},
   "source": [
    "Nesta seção, vamos investigar se há relação linear significativa entre a variável 'hora' e o número de acidentes médio. Lembrando que a hipótese nula sobre o coeficiente angular é a hipótese de que ele vale 0."
   ]
  },
  {
   "cell_type": "code",
   "execution_count": 599,
   "id": "e72ca119",
   "metadata": {},
   "outputs": [
    {
     "name": "stdout",
     "output_type": "stream",
     "text": [
      "Coeficiente angular da reta: 0.06700178677784396\n",
      "Interceptação: 1.4767397260273971\n",
      "R-quadrado: 0.02207738148271613\n",
      "p-valor: 1.995028146687868e-44\n",
      "Desvio padrão: 0.004764994224287847\n"
     ]
    }
   ],
   "source": [
    "slope, intercept, r_value, p_value, std_err = stats.linregress(\n",
    "    n_acidentes_por_hora_df_2['hora'], \n",
    "    n_acidentes_por_hora_df_2['numero_acidentes_por_dia_por_hora']\n",
    ")\n",
    "\n",
    "print(f\"Coeficiente angular da reta: {slope}\")\n",
    "print(f\"Interceptação: {intercept}\")\n",
    "print(f\"R-quadrado: {r_value**2}\")\n",
    "print(f\"p-valor: {p_value}\")\n",
    "print(f\"Desvio padrão: {std_err}\")"
   ]
  },
  {
   "cell_type": "markdown",
   "id": "aa11c2bd",
   "metadata": {},
   "source": [
    "Nesta situação, o p-valor nos dá suporte para afirmar que o coeficiente angular obtido é estatisticamente significativo, ou seja, o intervalo de confiança para descartar a hipótese nula sobre o coeficiente angular é muito alto (virtualmente 100%). <br>\n",
    "Porém, temos que também levar em consideração o baixo valor para o R-quadrado. Isto nos diz que muito pouco da variação na variável alvo, somente 0,2%, pode ser explicado pelo modelo linear. Ou seja, na prática parece que o modelo linear da variável dependendo não nos é útil para explicar a variável alvo."
   ]
  },
  {
   "cell_type": "markdown",
   "id": "570a7475",
   "metadata": {},
   "source": [
    "Abaixo, vamos apresentar o coeficiente de Pearson para as duas variáveis em questão, além de plotar um gráfico de dispersão em conjunto com o modelo linear obtido."
   ]
  },
  {
   "cell_type": "code",
   "execution_count": 600,
   "id": "54771892",
   "metadata": {},
   "outputs": [
    {
     "name": "stdout",
     "output_type": "stream",
     "text": [
      "Coeficiente de correlação de Pearson: 0.14858459369233432\n",
      "p-valor: 1.9950281466886027e-44\n"
     ]
    }
   ],
   "source": [
    "correlation, p_value = stats.pearsonr(\n",
    "    n_acidentes_por_hora_df_2['hora'], \n",
    "    n_acidentes_por_hora_df_2['numero_acidentes_por_dia_por_hora']\n",
    ")\n",
    "\n",
    "print(f\"Coeficiente de correlação de Pearson: {correlation}\")\n",
    "print(f\"p-valor: {p_value}\")"
   ]
  },
  {
   "cell_type": "code",
   "execution_count": 601,
   "id": "64b2c22b",
   "metadata": {},
   "outputs": [
    {
     "data": {
      "text/plain": [
       "<Axes: xlabel='hora', ylabel='numero_acidentes_por_dia_por_hora'>"
      ]
     },
     "execution_count": 601,
     "metadata": {},
     "output_type": "execute_result"
    },
    {
     "data": {
      "image/png": "[encoded data removed]",
      "text/plain": [
       "<Figure size 1600x600 with 1 Axes>"
      ]
     },
     "metadata": {},
     "output_type": "display_data"
    }
   ],
   "source": [
    "fig, ax0 = plt.subplots(1, 1, figsize = (16,6))\n",
    "ax0.set_xlabel(' ')\n",
    "\n",
    "sns.regplot(data=n_acidentes_por_hora_df_2.sort_values('hora'), \n",
    "            x='hora', \n",
    "            y='numero_acidentes_por_dia_por_hora', \n",
    "            ax=ax0,\n",
    "            scatter_kws={'alpha':0.5},\n",
    "            line_kws={'color': 'red'})"
   ]
  },
  {
   "cell_type": "markdown",
   "id": "163d2b8f",
   "metadata": {},
   "source": [
    "Do baixo valor para o coeficiente de Pearson, e principalmente da visualização, confirmamos que o modelo linear entre as duas variáveis não é bom o suficiente para explicar a relação entre as duas variáveis."
   ]
  }
 ],
 "metadata": {
  "kernelspec": {
   "display_name": "Python 3 (ipykernel)",
   "language": "python",
   "name": "python3"
  },
  "language_info": {
   "codemirror_mode": {
    "name": "ipython",
    "version": 3
   },
   "file_extension": ".py",
   "mimetype": "text/x-python",
   "name": "python",
   "nbconvert_exporter": "python",
   "pygments_lexer": "ipython3",
   "version": "3.12.3"
  }
 },
 "nbformat": 4,
 "nbformat_minor": 5
}
